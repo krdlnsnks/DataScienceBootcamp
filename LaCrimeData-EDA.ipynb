{
 "cells": [
  {
   "cell_type": "code",
   "execution_count": 1,
   "metadata": {},
   "outputs": [],
   "source": [
    "import numpy as np \n",
    "import pandas as pd"
   ]
  },
  {
   "cell_type": "code",
   "execution_count": 2,
   "metadata": {},
   "outputs": [],
   "source": [
    "import seaborn as sns\n",
    "import matplotlib.pyplot as plt\n",
    "%matplotlib inline\n",
    "pd.pandas.set_option('display.max.columns',None)\n",
    "import warnings\n",
    "warnings.filterwarnings('ignore')"
   ]
  },
  {
   "cell_type": "code",
   "execution_count": 3,
   "metadata": {},
   "outputs": [
    {
     "data": {
      "text/html": [
       "<div>\n",
       "<style scoped>\n",
       "    .dataframe tbody tr th:only-of-type {\n",
       "        vertical-align: middle;\n",
       "    }\n",
       "\n",
       "    .dataframe tbody tr th {\n",
       "        vertical-align: top;\n",
       "    }\n",
       "\n",
       "    .dataframe thead th {\n",
       "        text-align: right;\n",
       "    }\n",
       "</style>\n",
       "<table border=\"1\" class=\"dataframe\">\n",
       "  <thead>\n",
       "    <tr style=\"text-align: right;\">\n",
       "      <th></th>\n",
       "      <th>DR_NO</th>\n",
       "      <th>DATE OCC</th>\n",
       "      <th>TIME OCC</th>\n",
       "      <th>AREA</th>\n",
       "      <th>AREA NAME</th>\n",
       "      <th>Rpt Dist No</th>\n",
       "      <th>Crm Cd</th>\n",
       "      <th>Crm Cd Desc</th>\n",
       "      <th>Mocodes</th>\n",
       "      <th>Vict Age</th>\n",
       "      <th>Vict Sex</th>\n",
       "      <th>Vict Descent</th>\n",
       "      <th>Premis Desc</th>\n",
       "      <th>Weapon Used Cd</th>\n",
       "      <th>Weapon Desc</th>\n",
       "      <th>Status</th>\n",
       "      <th>Status Desc</th>\n",
       "      <th>LOCATION</th>\n",
       "      <th>LAT</th>\n",
       "      <th>LON</th>\n",
       "    </tr>\n",
       "  </thead>\n",
       "  <tbody>\n",
       "    <tr>\n",
       "      <th>0</th>\n",
       "      <td>10304468</td>\n",
       "      <td>08/01/2020</td>\n",
       "      <td>22:30</td>\n",
       "      <td>3</td>\n",
       "      <td>Southwest</td>\n",
       "      <td>377</td>\n",
       "      <td>624</td>\n",
       "      <td>BATTERY - SIMPLE ASSAULT</td>\n",
       "      <td>0444 0913</td>\n",
       "      <td>36</td>\n",
       "      <td>F</td>\n",
       "      <td>B</td>\n",
       "      <td>SINGLE FAMILY DWELLING</td>\n",
       "      <td>400.0</td>\n",
       "      <td>STRONG-ARM (HANDS, FIST, FEET OR BODILY FORCE)</td>\n",
       "      <td>AO</td>\n",
       "      <td>Adult Other</td>\n",
       "      <td>1100 W  39TH                         PL</td>\n",
       "      <td>34.0141</td>\n",
       "      <td>-118.2978</td>\n",
       "    </tr>\n",
       "    <tr>\n",
       "      <th>1</th>\n",
       "      <td>190101086</td>\n",
       "      <td>01/01/2020</td>\n",
       "      <td>03:30</td>\n",
       "      <td>1</td>\n",
       "      <td>Central</td>\n",
       "      <td>163</td>\n",
       "      <td>624</td>\n",
       "      <td>BATTERY - SIMPLE ASSAULT</td>\n",
       "      <td>0416 1822 1414</td>\n",
       "      <td>25</td>\n",
       "      <td>M</td>\n",
       "      <td>H</td>\n",
       "      <td>SIDEWALK</td>\n",
       "      <td>500.0</td>\n",
       "      <td>UNKNOWN WEAPON/OTHER WEAPON</td>\n",
       "      <td>IC</td>\n",
       "      <td>Invest Cont</td>\n",
       "      <td>700 S  HILL                         ST</td>\n",
       "      <td>34.0459</td>\n",
       "      <td>-118.2545</td>\n",
       "    </tr>\n",
       "    <tr>\n",
       "      <th>2</th>\n",
       "      <td>191501505</td>\n",
       "      <td>01/01/2020</td>\n",
       "      <td>17:30</td>\n",
       "      <td>15</td>\n",
       "      <td>N Hollywood</td>\n",
       "      <td>1543</td>\n",
       "      <td>745</td>\n",
       "      <td>VANDALISM - MISDEAMEANOR ($399 OR UNDER)</td>\n",
       "      <td>0329 1402</td>\n",
       "      <td>76</td>\n",
       "      <td>F</td>\n",
       "      <td>W</td>\n",
       "      <td>MULTI-UNIT DWELLING (APARTMENT, DUPLEX, ETC)</td>\n",
       "      <td>500.0</td>\n",
       "      <td>UNKNOWN WEAPON/OTHER WEAPON</td>\n",
       "      <td>IC</td>\n",
       "      <td>Invest Cont</td>\n",
       "      <td>5400    CORTEEN                      PL</td>\n",
       "      <td>34.1685</td>\n",
       "      <td>-118.4019</td>\n",
       "    </tr>\n",
       "    <tr>\n",
       "      <th>3</th>\n",
       "      <td>191921269</td>\n",
       "      <td>01/01/2020</td>\n",
       "      <td>04:15</td>\n",
       "      <td>19</td>\n",
       "      <td>Mission</td>\n",
       "      <td>1998</td>\n",
       "      <td>740</td>\n",
       "      <td>VANDALISM - FELONY ($400 &amp; OVER, ALL CHURCH VA...</td>\n",
       "      <td>0329</td>\n",
       "      <td>31</td>\n",
       "      <td>X</td>\n",
       "      <td>X</td>\n",
       "      <td>BEAUTY SUPPLY STORE</td>\n",
       "      <td>500.0</td>\n",
       "      <td>UNKNOWN WEAPON/OTHER WEAPON</td>\n",
       "      <td>IC</td>\n",
       "      <td>Invest Cont</td>\n",
       "      <td>14400    TITUS                        ST</td>\n",
       "      <td>34.2198</td>\n",
       "      <td>-118.4468</td>\n",
       "    </tr>\n",
       "    <tr>\n",
       "      <th>4</th>\n",
       "      <td>200100501</td>\n",
       "      <td>01/01/2020</td>\n",
       "      <td>00:30</td>\n",
       "      <td>1</td>\n",
       "      <td>Central</td>\n",
       "      <td>163</td>\n",
       "      <td>121</td>\n",
       "      <td>RAPE, FORCIBLE</td>\n",
       "      <td>0413 1822 1262 1415</td>\n",
       "      <td>25</td>\n",
       "      <td>F</td>\n",
       "      <td>H</td>\n",
       "      <td>NIGHT CLUB (OPEN EVENINGS ONLY)</td>\n",
       "      <td>500.0</td>\n",
       "      <td>UNKNOWN WEAPON/OTHER WEAPON</td>\n",
       "      <td>IC</td>\n",
       "      <td>Invest Cont</td>\n",
       "      <td>700 S  BROADWAY</td>\n",
       "      <td>34.0452</td>\n",
       "      <td>-118.2534</td>\n",
       "    </tr>\n",
       "  </tbody>\n",
       "</table>\n",
       "</div>"
      ],
      "text/plain": [
       "       DR_NO    DATE OCC TIME OCC  AREA    AREA NAME  Rpt Dist No  Crm Cd  \\\n",
       "0   10304468  08/01/2020    22:30     3    Southwest          377     624   \n",
       "1  190101086  01/01/2020    03:30     1      Central          163     624   \n",
       "2  191501505  01/01/2020    17:30    15  N Hollywood         1543     745   \n",
       "3  191921269  01/01/2020    04:15    19      Mission         1998     740   \n",
       "4  200100501  01/01/2020    00:30     1      Central          163     121   \n",
       "\n",
       "                                         Crm Cd Desc              Mocodes  \\\n",
       "0                           BATTERY - SIMPLE ASSAULT            0444 0913   \n",
       "1                           BATTERY - SIMPLE ASSAULT       0416 1822 1414   \n",
       "2           VANDALISM - MISDEAMEANOR ($399 OR UNDER)            0329 1402   \n",
       "3  VANDALISM - FELONY ($400 & OVER, ALL CHURCH VA...                 0329   \n",
       "4                                     RAPE, FORCIBLE  0413 1822 1262 1415   \n",
       "\n",
       "   Vict Age Vict Sex Vict Descent  \\\n",
       "0        36        F            B   \n",
       "1        25        M            H   \n",
       "2        76        F            W   \n",
       "3        31        X            X   \n",
       "4        25        F            H   \n",
       "\n",
       "                                    Premis Desc  Weapon Used Cd  \\\n",
       "0                        SINGLE FAMILY DWELLING           400.0   \n",
       "1                                      SIDEWALK           500.0   \n",
       "2  MULTI-UNIT DWELLING (APARTMENT, DUPLEX, ETC)           500.0   \n",
       "3                           BEAUTY SUPPLY STORE           500.0   \n",
       "4               NIGHT CLUB (OPEN EVENINGS ONLY)           500.0   \n",
       "\n",
       "                                      Weapon Desc Status  Status Desc  \\\n",
       "0  STRONG-ARM (HANDS, FIST, FEET OR BODILY FORCE)     AO  Adult Other   \n",
       "1                     UNKNOWN WEAPON/OTHER WEAPON     IC  Invest Cont   \n",
       "2                     UNKNOWN WEAPON/OTHER WEAPON     IC  Invest Cont   \n",
       "3                     UNKNOWN WEAPON/OTHER WEAPON     IC  Invest Cont   \n",
       "4                     UNKNOWN WEAPON/OTHER WEAPON     IC  Invest Cont   \n",
       "\n",
       "                                   LOCATION      LAT       LON  \n",
       "0   1100 W  39TH                         PL  34.0141 -118.2978  \n",
       "1    700 S  HILL                         ST  34.0459 -118.2545  \n",
       "2   5400    CORTEEN                      PL  34.1685 -118.4019  \n",
       "3  14400    TITUS                        ST  34.2198 -118.4468  \n",
       "4                           700 S  BROADWAY  34.0452 -118.2534  "
      ]
     },
     "execution_count": 3,
     "metadata": {},
     "output_type": "execute_result"
    }
   ],
   "source": [
    "df = pd.read_csv(\"desktop/crime_in_la.csv\")\n",
    "df.head()"
   ]
  },
  {
   "cell_type": "code",
   "execution_count": 4,
   "metadata": {},
   "outputs": [
    {
     "data": {
      "text/plain": [
       "(418609, 20)"
      ]
     },
     "execution_count": 4,
     "metadata": {},
     "output_type": "execute_result"
    }
   ],
   "source": [
    "df.shape"
   ]
  },
  {
   "cell_type": "code",
   "execution_count": 5,
   "metadata": {},
   "outputs": [
    {
     "data": {
      "text/html": [
       "<div>\n",
       "<style scoped>\n",
       "    .dataframe tbody tr th:only-of-type {\n",
       "        vertical-align: middle;\n",
       "    }\n",
       "\n",
       "    .dataframe tbody tr th {\n",
       "        vertical-align: top;\n",
       "    }\n",
       "\n",
       "    .dataframe thead th {\n",
       "        text-align: right;\n",
       "    }\n",
       "</style>\n",
       "<table border=\"1\" class=\"dataframe\">\n",
       "  <thead>\n",
       "    <tr style=\"text-align: right;\">\n",
       "      <th></th>\n",
       "      <th>DR_NO</th>\n",
       "      <th>AREA</th>\n",
       "      <th>Rpt Dist No</th>\n",
       "      <th>Crm Cd</th>\n",
       "      <th>Vict Age</th>\n",
       "      <th>Weapon Used Cd</th>\n",
       "      <th>LAT</th>\n",
       "      <th>LON</th>\n",
       "    </tr>\n",
       "  </thead>\n",
       "  <tbody>\n",
       "    <tr>\n",
       "      <th>count</th>\n",
       "      <td>4.186090e+05</td>\n",
       "      <td>418609.000000</td>\n",
       "      <td>418609.000000</td>\n",
       "      <td>418609.000000</td>\n",
       "      <td>418609.000000</td>\n",
       "      <td>418609.000000</td>\n",
       "      <td>418609.000000</td>\n",
       "      <td>418609.000000</td>\n",
       "    </tr>\n",
       "    <tr>\n",
       "      <th>mean</th>\n",
       "      <td>2.069560e+08</td>\n",
       "      <td>10.785924</td>\n",
       "      <td>1124.832892</td>\n",
       "      <td>506.620849</td>\n",
       "      <td>29.949722</td>\n",
       "      <td>450.000554</td>\n",
       "      <td>33.885863</td>\n",
       "      <td>-117.704073</td>\n",
       "    </tr>\n",
       "    <tr>\n",
       "      <th>std</th>\n",
       "      <td>5.807089e+06</td>\n",
       "      <td>6.053422</td>\n",
       "      <td>605.425720</td>\n",
       "      <td>209.646163</td>\n",
       "      <td>21.731755</td>\n",
       "      <td>99.824408</td>\n",
       "      <td>2.521733</td>\n",
       "      <td>8.751318</td>\n",
       "    </tr>\n",
       "    <tr>\n",
       "      <th>min</th>\n",
       "      <td>8.170000e+02</td>\n",
       "      <td>1.000000</td>\n",
       "      <td>101.000000</td>\n",
       "      <td>110.000000</td>\n",
       "      <td>-1.000000</td>\n",
       "      <td>101.000000</td>\n",
       "      <td>0.000000</td>\n",
       "      <td>-118.667600</td>\n",
       "    </tr>\n",
       "    <tr>\n",
       "      <th>25%</th>\n",
       "      <td>2.012154e+08</td>\n",
       "      <td>6.000000</td>\n",
       "      <td>629.000000</td>\n",
       "      <td>330.000000</td>\n",
       "      <td>10.000000</td>\n",
       "      <td>400.000000</td>\n",
       "      <td>34.010600</td>\n",
       "      <td>-118.430100</td>\n",
       "    </tr>\n",
       "    <tr>\n",
       "      <th>50%</th>\n",
       "      <td>2.102116e+08</td>\n",
       "      <td>11.000000</td>\n",
       "      <td>1147.000000</td>\n",
       "      <td>480.000000</td>\n",
       "      <td>31.000000</td>\n",
       "      <td>500.000000</td>\n",
       "      <td>34.058100</td>\n",
       "      <td>-118.322400</td>\n",
       "    </tr>\n",
       "    <tr>\n",
       "      <th>75%</th>\n",
       "      <td>2.113045e+08</td>\n",
       "      <td>16.000000</td>\n",
       "      <td>1621.000000</td>\n",
       "      <td>626.000000</td>\n",
       "      <td>45.000000</td>\n",
       "      <td>500.000000</td>\n",
       "      <td>34.163100</td>\n",
       "      <td>-118.274100</td>\n",
       "    </tr>\n",
       "    <tr>\n",
       "      <th>max</th>\n",
       "      <td>2.299050e+08</td>\n",
       "      <td>21.000000</td>\n",
       "      <td>2199.000000</td>\n",
       "      <td>956.000000</td>\n",
       "      <td>120.000000</td>\n",
       "      <td>516.000000</td>\n",
       "      <td>34.334300</td>\n",
       "      <td>0.000000</td>\n",
       "    </tr>\n",
       "  </tbody>\n",
       "</table>\n",
       "</div>"
      ],
      "text/plain": [
       "              DR_NO           AREA    Rpt Dist No         Crm Cd  \\\n",
       "count  4.186090e+05  418609.000000  418609.000000  418609.000000   \n",
       "mean   2.069560e+08      10.785924    1124.832892     506.620849   \n",
       "std    5.807089e+06       6.053422     605.425720     209.646163   \n",
       "min    8.170000e+02       1.000000     101.000000     110.000000   \n",
       "25%    2.012154e+08       6.000000     629.000000     330.000000   \n",
       "50%    2.102116e+08      11.000000    1147.000000     480.000000   \n",
       "75%    2.113045e+08      16.000000    1621.000000     626.000000   \n",
       "max    2.299050e+08      21.000000    2199.000000     956.000000   \n",
       "\n",
       "            Vict Age  Weapon Used Cd            LAT            LON  \n",
       "count  418609.000000   418609.000000  418609.000000  418609.000000  \n",
       "mean       29.949722      450.000554      33.885863    -117.704073  \n",
       "std        21.731755       99.824408       2.521733       8.751318  \n",
       "min        -1.000000      101.000000       0.000000    -118.667600  \n",
       "25%        10.000000      400.000000      34.010600    -118.430100  \n",
       "50%        31.000000      500.000000      34.058100    -118.322400  \n",
       "75%        45.000000      500.000000      34.163100    -118.274100  \n",
       "max       120.000000      516.000000      34.334300       0.000000  "
      ]
     },
     "execution_count": 5,
     "metadata": {},
     "output_type": "execute_result"
    }
   ],
   "source": [
    "df.describe()"
   ]
  },
  {
   "cell_type": "code",
   "execution_count": 6,
   "metadata": {},
   "outputs": [
    {
     "name": "stdout",
     "output_type": "stream",
     "text": [
      "<class 'pandas.core.frame.DataFrame'>\n",
      "RangeIndex: 418609 entries, 0 to 418608\n",
      "Data columns (total 20 columns):\n",
      " #   Column          Non-Null Count   Dtype  \n",
      "---  ------          --------------   -----  \n",
      " 0   DR_NO           418609 non-null  int64  \n",
      " 1   DATE OCC        418609 non-null  object \n",
      " 2   TIME OCC        418609 non-null  object \n",
      " 3   AREA            418609 non-null  int64  \n",
      " 4   AREA NAME       418609 non-null  object \n",
      " 5   Rpt Dist No     418609 non-null  int64  \n",
      " 6   Crm Cd          418609 non-null  int64  \n",
      " 7   Crm Cd Desc     418609 non-null  object \n",
      " 8   Mocodes         418609 non-null  object \n",
      " 9   Vict Age        418609 non-null  int64  \n",
      " 10  Vict Sex        418609 non-null  object \n",
      " 11  Vict Descent    418609 non-null  object \n",
      " 12  Premis Desc     418451 non-null  object \n",
      " 13  Weapon Used Cd  418609 non-null  float64\n",
      " 14  Weapon Desc     418609 non-null  object \n",
      " 15  Status          418609 non-null  object \n",
      " 16  Status Desc     418609 non-null  object \n",
      " 17  LOCATION        418609 non-null  object \n",
      " 18  LAT             418609 non-null  float64\n",
      " 19  LON             418609 non-null  float64\n",
      "dtypes: float64(3), int64(5), object(12)\n",
      "memory usage: 63.9+ MB\n"
     ]
    }
   ],
   "source": [
    "df.info()"
   ]
  },
  {
   "cell_type": "code",
   "execution_count": 7,
   "metadata": {},
   "outputs": [
    {
     "data": {
      "text/plain": [
       "1"
      ]
     },
     "execution_count": 7,
     "metadata": {},
     "output_type": "execute_result"
    }
   ],
   "source": [
    "missing_features=[features for features in df.columns if df[features].isnull().sum()>=1]\n",
    "len(missing_features)"
   ]
  },
  {
   "cell_type": "code",
   "execution_count": 8,
   "metadata": {},
   "outputs": [
    {
     "name": "stdout",
     "output_type": "stream",
     "text": [
      "Premis Desc has : 0.0377 % missing Values\n"
     ]
    }
   ],
   "source": [
    "for features in missing_features:\n",
    "    print(features,'has :',np.round((df[features].isnull().mean())*100,4),'% missing Values')"
   ]
  },
  {
   "cell_type": "code",
   "execution_count": 9,
   "metadata": {},
   "outputs": [
    {
     "data": {
      "text/plain": [
       "Vict Age          1.000000\n",
       "AREA              0.011202\n",
       "Rpt Dist No       0.011127\n",
       "LON               0.001138\n",
       "LAT              -0.000288\n",
       "DR_NO            -0.000390\n",
       "Crm Cd           -0.008582\n",
       "Weapon Used Cd   -0.073887\n",
       "Name: Vict Age, dtype: float64"
      ]
     },
     "execution_count": 9,
     "metadata": {},
     "output_type": "execute_result"
    }
   ],
   "source": [
    "df.corr()['Vict Age'].sort_values(ascending=False)"
   ]
  },
  {
   "cell_type": "code",
   "execution_count": 10,
   "metadata": {},
   "outputs": [
    {
     "data": {
      "image/png": "[encoded data removed]",
      "text/plain": [
       "<Figure size 2160x1800 with 2 Axes>"
      ]
     },
     "metadata": {
      "needs_background": "light"
     },
     "output_type": "display_data"
    }
   ],
   "source": [
    "f, ax = plt.subplots(figsize=(30, 25))\n",
    "sns.heatmap(df.corr(),annot = True);"
   ]
  },
  {
   "cell_type": "code",
   "execution_count": 11,
   "metadata": {},
   "outputs": [
    {
     "data": {
      "image/png": "[encoded data removed]",
      "text/plain": [
       "<Figure size 432x288 with 1 Axes>"
      ]
     },
     "metadata": {
      "needs_background": "light"
     },
     "output_type": "display_data"
    }
   ],
   "source": [
    "df.plot.box();"
   ]
  },
  {
   "cell_type": "code",
   "execution_count": 12,
   "metadata": {},
   "outputs": [
    {
     "data": {
      "text/plain": [
       "['DR_NO',\n",
       " 'AREA',\n",
       " 'Rpt Dist No',\n",
       " 'Crm Cd',\n",
       " 'Vict Age',\n",
       " 'Weapon Used Cd',\n",
       " 'LAT',\n",
       " 'LON']"
      ]
     },
     "execution_count": 12,
     "metadata": {},
     "output_type": "execute_result"
    }
   ],
   "source": [
    "numerical_features = [features for features in df.columns if df[features].dtype !='O' and features!='Id']\n",
    "numerical_features"
   ]
  },
  {
   "cell_type": "code",
   "execution_count": 13,
   "metadata": {},
   "outputs": [
    {
     "data": {
      "text/plain": [
       "[]"
      ]
     },
     "execution_count": 13,
     "metadata": {},
     "output_type": "execute_result"
    }
   ],
   "source": [
    "year_feature = [features for features in numerical_features if 'Yr' in features or 'Year' in features]\n",
    "year_feature"
   ]
  },
  {
   "cell_type": "code",
   "execution_count": 14,
   "metadata": {},
   "outputs": [
    {
     "data": {
      "text/plain": [
       "['AREA']"
      ]
     },
     "execution_count": 14,
     "metadata": {},
     "output_type": "execute_result"
    }
   ],
   "source": [
    "discrete_features = [features for features in numerical_features if(len(df[features].unique())<25) and features not in year_feature]\n",
    "discrete_features"
   ]
  },
  {
   "cell_type": "code",
   "execution_count": 15,
   "metadata": {},
   "outputs": [
    {
     "data": {
      "image/png": "[encoded data removed]",
      "text/plain": [
       "<Figure size 576x360 with 2 Axes>"
      ]
     },
     "metadata": {},
     "output_type": "display_data"
    }
   ],
   "source": [
    "sns.set_style('darkgrid')\n",
    "fig=plt.figure(figsize=(8,5))\n",
    "\n",
    "a=len(discrete_features)   \n",
    "b=2                        \n",
    "c=1                        \n",
    "\n",
    "data=df.copy()  \n",
    "\n",
    "for features in discrete_features:\n",
    "    plt.subplot(a,b,c)\n",
    "    data.groupby(features)['Vict Age'].median().plot(kind='bar',color='pink')\n",
    "    plt.xticks(rotation=0)  \n",
    "    c = c + 1 \n",
    "    \n",
    "    plt.subplot(a,b,c)\n",
    "    sns.boxplot(x = data[features], color = 'skyblue')  \n",
    "    c = c + 1  \n",
    "     \n",
    "\n",
    "fig.tight_layout()\n",
    "plt.show()"
   ]
  },
  {
   "cell_type": "code",
   "execution_count": 16,
   "metadata": {},
   "outputs": [
    {
     "data": {
      "text/plain": [
       "['DR_NO', 'Rpt Dist No', 'Crm Cd', 'Vict Age', 'Weapon Used Cd', 'LAT', 'LON']"
      ]
     },
     "execution_count": 16,
     "metadata": {},
     "output_type": "execute_result"
    }
   ],
   "source": [
    "continious_features = [features for features in numerical_features if features not in discrete_features + year_feature + ['Id']]\n",
    "continious_features"
   ]
  },
  {
   "cell_type": "code",
   "execution_count": 17,
   "metadata": {},
   "outputs": [
    {
     "data": {
      "image/png": "[encoded data removed]",
      "text/plain": [
       "<Figure size 720x720 with 14 Axes>"
      ]
     },
     "metadata": {},
     "output_type": "display_data"
    }
   ],
   "source": [
    "sns.set_style('darkgrid')\n",
    "fig=plt.figure(figsize=(10,10))\n",
    "\n",
    "a=len(continious_features)   \n",
    "b=2                        \n",
    "c=1                       \n",
    "\n",
    "data=df.copy()  \n",
    "\n",
    "for features in continious_features:\n",
    "    plt.subplot(a,b,c)\n",
    "    sns.histplot(x = data[features], kde = True , color = 'purple')\n",
    "    c = c + 1 \n",
    "    \n",
    "    plt.subplot(a,b,c)\n",
    "    sns.boxplot(x = data[features], color = 'skyblue') \n",
    "    c = c + 1  \n",
    "     \n",
    "\n",
    "fig.tight_layout()\n",
    "plt.show()"
   ]
  },
  {
   "cell_type": "code",
   "execution_count": 18,
   "metadata": {
    "scrolled": true
   },
   "outputs": [
    {
     "data": {
      "text/plain": [
       "['DATE OCC',\n",
       " 'TIME OCC',\n",
       " 'AREA NAME',\n",
       " 'Crm Cd Desc',\n",
       " 'Mocodes',\n",
       " 'Vict Sex',\n",
       " 'Vict Descent',\n",
       " 'Premis Desc',\n",
       " 'Weapon Desc',\n",
       " 'Status',\n",
       " 'Status Desc',\n",
       " 'LOCATION']"
      ]
     },
     "execution_count": 18,
     "metadata": {},
     "output_type": "execute_result"
    }
   ],
   "source": [
    "categorical_features = [features for features in df.columns if df[features].dtype == 'O']\n",
    "categorical_features"
   ]
  },
  {
   "cell_type": "code",
   "execution_count": 19,
   "metadata": {
    "scrolled": true
   },
   "outputs": [
    {
     "data": {
      "text/html": [
       "<div>\n",
       "<style scoped>\n",
       "    .dataframe tbody tr th:only-of-type {\n",
       "        vertical-align: middle;\n",
       "    }\n",
       "\n",
       "    .dataframe tbody tr th {\n",
       "        vertical-align: top;\n",
       "    }\n",
       "\n",
       "    .dataframe thead th {\n",
       "        text-align: right;\n",
       "    }\n",
       "</style>\n",
       "<table border=\"1\" class=\"dataframe\">\n",
       "  <thead>\n",
       "    <tr style=\"text-align: right;\">\n",
       "      <th></th>\n",
       "      <th>DATE OCC</th>\n",
       "      <th>TIME OCC</th>\n",
       "      <th>AREA NAME</th>\n",
       "      <th>Crm Cd Desc</th>\n",
       "      <th>Mocodes</th>\n",
       "      <th>Vict Sex</th>\n",
       "      <th>Vict Descent</th>\n",
       "      <th>Premis Desc</th>\n",
       "      <th>Weapon Desc</th>\n",
       "      <th>Status</th>\n",
       "      <th>Status Desc</th>\n",
       "      <th>LOCATION</th>\n",
       "    </tr>\n",
       "  </thead>\n",
       "  <tbody>\n",
       "    <tr>\n",
       "      <th>0</th>\n",
       "      <td>08/01/2020</td>\n",
       "      <td>22:30</td>\n",
       "      <td>Southwest</td>\n",
       "      <td>BATTERY - SIMPLE ASSAULT</td>\n",
       "      <td>0444 0913</td>\n",
       "      <td>F</td>\n",
       "      <td>B</td>\n",
       "      <td>SINGLE FAMILY DWELLING</td>\n",
       "      <td>STRONG-ARM (HANDS, FIST, FEET OR BODILY FORCE)</td>\n",
       "      <td>AO</td>\n",
       "      <td>Adult Other</td>\n",
       "      <td>1100 W  39TH                         PL</td>\n",
       "    </tr>\n",
       "    <tr>\n",
       "      <th>1</th>\n",
       "      <td>01/01/2020</td>\n",
       "      <td>03:30</td>\n",
       "      <td>Central</td>\n",
       "      <td>BATTERY - SIMPLE ASSAULT</td>\n",
       "      <td>0416 1822 1414</td>\n",
       "      <td>M</td>\n",
       "      <td>H</td>\n",
       "      <td>SIDEWALK</td>\n",
       "      <td>UNKNOWN WEAPON/OTHER WEAPON</td>\n",
       "      <td>IC</td>\n",
       "      <td>Invest Cont</td>\n",
       "      <td>700 S  HILL                         ST</td>\n",
       "    </tr>\n",
       "    <tr>\n",
       "      <th>2</th>\n",
       "      <td>01/01/2020</td>\n",
       "      <td>17:30</td>\n",
       "      <td>N Hollywood</td>\n",
       "      <td>VANDALISM - MISDEAMEANOR ($399 OR UNDER)</td>\n",
       "      <td>0329 1402</td>\n",
       "      <td>F</td>\n",
       "      <td>W</td>\n",
       "      <td>MULTI-UNIT DWELLING (APARTMENT, DUPLEX, ETC)</td>\n",
       "      <td>UNKNOWN WEAPON/OTHER WEAPON</td>\n",
       "      <td>IC</td>\n",
       "      <td>Invest Cont</td>\n",
       "      <td>5400    CORTEEN                      PL</td>\n",
       "    </tr>\n",
       "    <tr>\n",
       "      <th>3</th>\n",
       "      <td>01/01/2020</td>\n",
       "      <td>04:15</td>\n",
       "      <td>Mission</td>\n",
       "      <td>VANDALISM - FELONY ($400 &amp; OVER, ALL CHURCH VA...</td>\n",
       "      <td>0329</td>\n",
       "      <td>X</td>\n",
       "      <td>X</td>\n",
       "      <td>BEAUTY SUPPLY STORE</td>\n",
       "      <td>UNKNOWN WEAPON/OTHER WEAPON</td>\n",
       "      <td>IC</td>\n",
       "      <td>Invest Cont</td>\n",
       "      <td>14400    TITUS                        ST</td>\n",
       "    </tr>\n",
       "    <tr>\n",
       "      <th>4</th>\n",
       "      <td>01/01/2020</td>\n",
       "      <td>00:30</td>\n",
       "      <td>Central</td>\n",
       "      <td>RAPE, FORCIBLE</td>\n",
       "      <td>0413 1822 1262 1415</td>\n",
       "      <td>F</td>\n",
       "      <td>H</td>\n",
       "      <td>NIGHT CLUB (OPEN EVENINGS ONLY)</td>\n",
       "      <td>UNKNOWN WEAPON/OTHER WEAPON</td>\n",
       "      <td>IC</td>\n",
       "      <td>Invest Cont</td>\n",
       "      <td>700 S  BROADWAY</td>\n",
       "    </tr>\n",
       "  </tbody>\n",
       "</table>\n",
       "</div>"
      ],
      "text/plain": [
       "     DATE OCC TIME OCC    AREA NAME  \\\n",
       "0  08/01/2020    22:30    Southwest   \n",
       "1  01/01/2020    03:30      Central   \n",
       "2  01/01/2020    17:30  N Hollywood   \n",
       "3  01/01/2020    04:15      Mission   \n",
       "4  01/01/2020    00:30      Central   \n",
       "\n",
       "                                         Crm Cd Desc              Mocodes  \\\n",
       "0                           BATTERY - SIMPLE ASSAULT            0444 0913   \n",
       "1                           BATTERY - SIMPLE ASSAULT       0416 1822 1414   \n",
       "2           VANDALISM - MISDEAMEANOR ($399 OR UNDER)            0329 1402   \n",
       "3  VANDALISM - FELONY ($400 & OVER, ALL CHURCH VA...                 0329   \n",
       "4                                     RAPE, FORCIBLE  0413 1822 1262 1415   \n",
       "\n",
       "  Vict Sex Vict Descent                                   Premis Desc  \\\n",
       "0        F            B                        SINGLE FAMILY DWELLING   \n",
       "1        M            H                                      SIDEWALK   \n",
       "2        F            W  MULTI-UNIT DWELLING (APARTMENT, DUPLEX, ETC)   \n",
       "3        X            X                           BEAUTY SUPPLY STORE   \n",
       "4        F            H               NIGHT CLUB (OPEN EVENINGS ONLY)   \n",
       "\n",
       "                                      Weapon Desc Status  Status Desc  \\\n",
       "0  STRONG-ARM (HANDS, FIST, FEET OR BODILY FORCE)     AO  Adult Other   \n",
       "1                     UNKNOWN WEAPON/OTHER WEAPON     IC  Invest Cont   \n",
       "2                     UNKNOWN WEAPON/OTHER WEAPON     IC  Invest Cont   \n",
       "3                     UNKNOWN WEAPON/OTHER WEAPON     IC  Invest Cont   \n",
       "4                     UNKNOWN WEAPON/OTHER WEAPON     IC  Invest Cont   \n",
       "\n",
       "                                   LOCATION  \n",
       "0   1100 W  39TH                         PL  \n",
       "1    700 S  HILL                         ST  \n",
       "2   5400    CORTEEN                      PL  \n",
       "3  14400    TITUS                        ST  \n",
       "4                           700 S  BROADWAY  "
      ]
     },
     "execution_count": 19,
     "metadata": {},
     "output_type": "execute_result"
    }
   ],
   "source": [
    "df[categorical_features].head()"
   ]
  },
  {
   "cell_type": "code",
   "execution_count": null,
   "metadata": {},
   "outputs": [],
   "source": [
    "sns.set_style('darkgrid')\n",
    "fig=plt.figure(figsize=(10,10))\n",
    "\n",
    "a=len(categorical_features)   \n",
    "b=2                           \n",
    "c=1                           \n",
    "\n",
    "data=df.copy()  \n",
    "\n",
    "for features in categorical_features:\n",
    "    plt.subplot(a,b,c)\n",
    "  \n",
    "    data.groupby(features)['Vict Age'].median().plot(color='skyblue',kind='bar')\n",
    "    plt.xticks(rotation=0)\n",
    "    c = c+1\n",
    "\n",
    "fig.tight_layout()\n",
    "plt.show()"
   ]
  },
  {
   "cell_type": "code",
   "execution_count": null,
   "metadata": {},
   "outputs": [],
   "source": [
    "for features in categorical_features:\n",
    "    print('There are {} subclasses in {}'.format(len(df[features].unique()),features))"
   ]
  }
 ],
 "metadata": {
  "kernelspec": {
   "display_name": "Python 3",
   "language": "python",
   "name": "python3"
  },
  "language_info": {
   "codemirror_mode": {
    "name": "ipython",
    "version": 3
   },
   "file_extension": ".py",
   "mimetype": "text/x-python",
   "name": "python",
   "nbconvert_exporter": "python",
   "pygments_lexer": "ipython3",
   "version": "3.8.5"
  }
 },
 "nbformat": 4,
 "nbformat_minor": 4
}
