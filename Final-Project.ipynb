{
 "cells": [
  {
   "cell_type": "markdown",
   "metadata": {},
   "source": [
    "# Bursa Kiralık Ev Tahminlemesi"
   ]
  },
  {
   "cell_type": "markdown",
   "metadata": {},
   "source": [
    "## Kütüphanelerin Yüklenmesi"
   ]
  },
  {
   "cell_type": "code",
   "execution_count": 1,
   "metadata": {},
   "outputs": [],
   "source": [
    "import pandas as pd\n",
    "import requests\n",
    "from bs4 import BeautifulSoup"
   ]
  },
  {
   "cell_type": "code",
   "execution_count": 2,
   "metadata": {},
   "outputs": [],
   "source": [
    "import seaborn as sns\n",
    "import matplotlib.pyplot as plt\n",
    "%matplotlib inline\n",
    "pd.pandas.set_option('display.max.columns',None)\n",
    "import warnings\n",
    "warnings.filterwarnings('ignore')"
   ]
  },
  {
   "cell_type": "code",
   "execution_count": 3,
   "metadata": {},
   "outputs": [
    {
     "name": "stdout",
     "output_type": "stream",
     "text": [
      "Requirement already satisfied: feature_engine in ./opt/anaconda3/lib/python3.8/site-packages (1.1.2)\n",
      "Requirement already satisfied: scikit-learn>=0.22.2 in ./opt/anaconda3/lib/python3.8/site-packages (from feature_engine) (0.23.2)\n",
      "Requirement already satisfied: numpy>=1.18.2 in ./opt/anaconda3/lib/python3.8/site-packages (from feature_engine) (1.22.3)\n",
      "Requirement already satisfied: scipy>=1.4.1 in ./opt/anaconda3/lib/python3.8/site-packages (from feature_engine) (1.5.2)\n",
      "Requirement already satisfied: pandas>=1.0.3 in ./opt/anaconda3/lib/python3.8/site-packages (from feature_engine) (1.1.3)\n",
      "Requirement already satisfied: statsmodels>=0.11.1 in ./opt/anaconda3/lib/python3.8/site-packages (from feature_engine) (0.12.0)\n",
      "Requirement already satisfied: joblib>=0.11 in ./opt/anaconda3/lib/python3.8/site-packages (from scikit-learn>=0.22.2->feature_engine) (0.17.0)\n",
      "Requirement already satisfied: threadpoolctl>=2.0.0 in ./opt/anaconda3/lib/python3.8/site-packages (from scikit-learn>=0.22.2->feature_engine) (2.1.0)\n",
      "Requirement already satisfied: python-dateutil>=2.7.3 in ./opt/anaconda3/lib/python3.8/site-packages (from pandas>=1.0.3->feature_engine) (2.8.1)\n",
      "Requirement already satisfied: pytz>=2017.2 in ./opt/anaconda3/lib/python3.8/site-packages (from pandas>=1.0.3->feature_engine) (2020.1)\n",
      "Requirement already satisfied: patsy>=0.5 in ./opt/anaconda3/lib/python3.8/site-packages (from statsmodels>=0.11.1->feature_engine) (0.5.1)\n",
      "Requirement already satisfied: six>=1.5 in ./opt/anaconda3/lib/python3.8/site-packages (from python-dateutil>=2.7.3->pandas>=1.0.3->feature_engine) (1.15.0)\n",
      "Note: you may need to restart the kernel to use updated packages.\n"
     ]
    }
   ],
   "source": [
    "pip install feature_engine"
   ]
  },
  {
   "cell_type": "markdown",
   "metadata": {},
   "source": [
    "## İnternet Sitesinden Veri Çekmek"
   ]
  },
  {
   "cell_type": "code",
   "execution_count": 4,
   "metadata": {},
   "outputs": [],
   "source": [
    "url=\"https://www.hepsiemlak.com/bursa-kiralik\" # gitmek istediğimiz adres\n",
    "response=requests.get(url)"
   ]
  },
  {
   "cell_type": "code",
   "execution_count": 5,
   "metadata": {},
   "outputs": [],
   "source": [
    "soup=BeautifulSoup(response.text, \"html.parser\")"
   ]
  },
  {
   "cell_type": "code",
   "execution_count": 6,
   "metadata": {},
   "outputs": [],
   "source": [
    "price = soup.findAll(\"div\",{\"class\":\"list-view-price\"}) \n",
    "viewsize = soup.findAll(\"span\", {\"class\":\"list-view-size\"})\n",
    "age = soup.findAll(\"span\", {\"class\":\"buildingAge\"})\n",
    "room = soup.findAll(\"span\", {\"class\":\"houseRoomCount\"})\n",
    "floortype = soup.findAll(\"span\", {\"class\":\"floortype\"})\n",
    "location = soup.findAll(\"div\",{\"class\":\"list-view-location\"})"
   ]
  },
  {
   "cell_type": "markdown",
   "metadata": {},
   "source": [
    "## Veri Seti Haline Getirmek"
   ]
  },
  {
   "cell_type": "code",
   "execution_count": 7,
   "metadata": {},
   "outputs": [],
   "source": [
    "p_list = []\n",
    "v_list = []\n",
    "a_list = []\n",
    "r_list = []\n",
    "f_list = []\n",
    "l_list = []\n",
    "columns=[\"price\", \"viewsize\", \"age\", \"room\", \"floortype\", \"location\"]\n",
    "for i in range(2,195):\n",
    "    url_=\"https://www.hepsiemlak.com/bursa-kiralik?page={}\".format(i)\n",
    "    response=requests.get(url)\n",
    "    soup=BeautifulSoup(response.text, \"html.parser\")\n",
    "    soup.beautify\n",
    "    price = soup.findAll(\"div\",{\"class\":\"list-view-price\"})\n",
    "    viewsize = soup.findAll(\"span\", {\"class\":\"list-view-size\"})\n",
    "    age = soup.findAll(\"span\", {\"class\":\"buildingAge\"})\n",
    "    room = soup.findAll(\"span\", {\"class\":\"houseRoomCount\"})\n",
    "    floortype = soup.findAll(\"span\", {\"class\":\"floortype\"})\n",
    "    location = soup.findAll(\"div\",{\"class\":\"list-view-location\"})\n",
    "    for (p1, r1, v1, a1, f1, l1) in zip(price, viewsize, age, room, floortype, location):\n",
    "        p_list.append(p1.text)\n",
    "        v_list.append(r1.text)\n",
    "        a_list.append(v1.text)\n",
    "        r_list.append(a1.text)\n",
    "        f_list.append(f1.text)\n",
    "        l_list.append(l1.text)\n",
    "    "
   ]
  },
  {
   "cell_type": "code",
   "execution_count": 8,
   "metadata": {},
   "outputs": [
    {
     "data": {
      "text/html": [
       "<div>\n",
       "<style scoped>\n",
       "    .dataframe tbody tr th:only-of-type {\n",
       "        vertical-align: middle;\n",
       "    }\n",
       "\n",
       "    .dataframe tbody tr th {\n",
       "        vertical-align: top;\n",
       "    }\n",
       "\n",
       "    .dataframe thead th {\n",
       "        text-align: right;\n",
       "    }\n",
       "</style>\n",
       "<table border=\"1\" class=\"dataframe\">\n",
       "  <thead>\n",
       "    <tr style=\"text-align: right;\">\n",
       "      <th></th>\n",
       "      <th>Price</th>\n",
       "      <th>View Size</th>\n",
       "      <th>Age</th>\n",
       "      <th>Room</th>\n",
       "      <th>Floortype</th>\n",
       "      <th>Location</th>\n",
       "    </tr>\n",
       "  </thead>\n",
       "  <tbody>\n",
       "    <tr>\n",
       "      <th>0</th>\n",
       "      <td>\\n              2.500\\n              TL</td>\n",
       "      <td>\\n                          100 m2</td>\n",
       "      <td>25 Yaşında</td>\n",
       "      <td>2 + 1</td>\n",
       "      <td>\\n                      5. Kat</td>\n",
       "      <td>\\n                      Mudanya,\\n            ...</td>\n",
       "    </tr>\n",
       "    <tr>\n",
       "      <th>1</th>\n",
       "      <td>\\n              3.500\\n              TL</td>\n",
       "      <td>\\n                          140 m2</td>\n",
       "      <td>1 Yaşında</td>\n",
       "      <td>3 + 1</td>\n",
       "      <td>\\n                      3. Kat</td>\n",
       "      <td>\\n                      Nilüfer,\\n            ...</td>\n",
       "    </tr>\n",
       "    <tr>\n",
       "      <th>2</th>\n",
       "      <td>\\n              7.900\\n              TL</td>\n",
       "      <td>\\n                          160 m2</td>\n",
       "      <td>4 Yaşında</td>\n",
       "      <td>3 + 1</td>\n",
       "      <td>\\n                      3. Kat</td>\n",
       "      <td>\\n                      Nilüfer,\\n            ...</td>\n",
       "    </tr>\n",
       "    <tr>\n",
       "      <th>3</th>\n",
       "      <td>\\n              4.000\\n              TL</td>\n",
       "      <td>\\n                          300 m2</td>\n",
       "      <td>15 Yaşında</td>\n",
       "      <td>5 + 1</td>\n",
       "      <td>\\n                      En Üst Kat</td>\n",
       "      <td>\\n                      Nilüfer,\\n            ...</td>\n",
       "    </tr>\n",
       "    <tr>\n",
       "      <th>4</th>\n",
       "      <td>\\n              2.500\\n              TL</td>\n",
       "      <td>\\n                          80 m2</td>\n",
       "      <td>8 Yaşında</td>\n",
       "      <td>2 + 1</td>\n",
       "      <td>\\n                      3. Kat</td>\n",
       "      <td>\\n                      Nilüfer,\\n            ...</td>\n",
       "    </tr>\n",
       "    <tr>\n",
       "      <th>...</th>\n",
       "      <td>...</td>\n",
       "      <td>...</td>\n",
       "      <td>...</td>\n",
       "      <td>...</td>\n",
       "      <td>...</td>\n",
       "      <td>...</td>\n",
       "    </tr>\n",
       "    <tr>\n",
       "      <th>4627</th>\n",
       "      <td>\\n              1.850\\n              TL</td>\n",
       "      <td>\\n                          65 m2</td>\n",
       "      <td>10 Yaşında</td>\n",
       "      <td>2 + 1</td>\n",
       "      <td>\\n                      4. Kat</td>\n",
       "      <td>\\n                      Nilüfer,\\n            ...</td>\n",
       "    </tr>\n",
       "    <tr>\n",
       "      <th>4628</th>\n",
       "      <td>\\n              2.200\\n              TL</td>\n",
       "      <td>\\n                          55 m2</td>\n",
       "      <td>2 Yaşında</td>\n",
       "      <td>1 + 1</td>\n",
       "      <td>\\n                      Çatı Katı</td>\n",
       "      <td>\\n                      Nilüfer,\\n            ...</td>\n",
       "    </tr>\n",
       "    <tr>\n",
       "      <th>4629</th>\n",
       "      <td>\\n              3.000\\n              TL</td>\n",
       "      <td>\\n                          55 m2</td>\n",
       "      <td>Sıfır Bina</td>\n",
       "      <td>1 + 1</td>\n",
       "      <td>\\n                      1. Kat</td>\n",
       "      <td>\\n                      Nilüfer,\\n            ...</td>\n",
       "    </tr>\n",
       "    <tr>\n",
       "      <th>4630</th>\n",
       "      <td>\\n              7.000\\n              TL</td>\n",
       "      <td>\\n                          140 m2</td>\n",
       "      <td>Sıfır Bina</td>\n",
       "      <td>3 + 1</td>\n",
       "      <td>\\n                      10. Kat</td>\n",
       "      <td>\\n                      Nilüfer,\\n            ...</td>\n",
       "    </tr>\n",
       "    <tr>\n",
       "      <th>4631</th>\n",
       "      <td>\\n              5.250\\n              TL</td>\n",
       "      <td>\\n                          200 m2</td>\n",
       "      <td>20 Yaşında</td>\n",
       "      <td>3 + 1</td>\n",
       "      <td>\\n                      6. Kat</td>\n",
       "      <td>\\n                      Nilüfer,\\n            ...</td>\n",
       "    </tr>\n",
       "  </tbody>\n",
       "</table>\n",
       "<p>4632 rows × 6 columns</p>\n",
       "</div>"
      ],
      "text/plain": [
       "                                        Price  \\\n",
       "0     \\n              2.500\\n              TL   \n",
       "1     \\n              3.500\\n              TL   \n",
       "2     \\n              7.900\\n              TL   \n",
       "3     \\n              4.000\\n              TL   \n",
       "4     \\n              2.500\\n              TL   \n",
       "...                                       ...   \n",
       "4627  \\n              1.850\\n              TL   \n",
       "4628  \\n              2.200\\n              TL   \n",
       "4629  \\n              3.000\\n              TL   \n",
       "4630  \\n              7.000\\n              TL   \n",
       "4631  \\n              5.250\\n              TL   \n",
       "\n",
       "                               View Size         Age   Room  \\\n",
       "0     \\n                          100 m2  25 Yaşında  2 + 1   \n",
       "1     \\n                          140 m2   1 Yaşında  3 + 1   \n",
       "2     \\n                          160 m2   4 Yaşında  3 + 1   \n",
       "3     \\n                          300 m2  15 Yaşında  5 + 1   \n",
       "4      \\n                          80 m2   8 Yaşında  2 + 1   \n",
       "...                                  ...         ...    ...   \n",
       "4627   \\n                          65 m2  10 Yaşında  2 + 1   \n",
       "4628   \\n                          55 m2   2 Yaşında  1 + 1   \n",
       "4629   \\n                          55 m2  Sıfır Bina  1 + 1   \n",
       "4630  \\n                          140 m2  Sıfır Bina  3 + 1   \n",
       "4631  \\n                          200 m2  20 Yaşında  3 + 1   \n",
       "\n",
       "                               Floortype  \\\n",
       "0         \\n                      5. Kat   \n",
       "1         \\n                      3. Kat   \n",
       "2         \\n                      3. Kat   \n",
       "3     \\n                      En Üst Kat   \n",
       "4         \\n                      3. Kat   \n",
       "...                                  ...   \n",
       "4627      \\n                      4. Kat   \n",
       "4628   \\n                      Çatı Katı   \n",
       "4629      \\n                      1. Kat   \n",
       "4630     \\n                      10. Kat   \n",
       "4631      \\n                      6. Kat   \n",
       "\n",
       "                                               Location  \n",
       "0     \\n                      Mudanya,\\n            ...  \n",
       "1     \\n                      Nilüfer,\\n            ...  \n",
       "2     \\n                      Nilüfer,\\n            ...  \n",
       "3     \\n                      Nilüfer,\\n            ...  \n",
       "4     \\n                      Nilüfer,\\n            ...  \n",
       "...                                                 ...  \n",
       "4627  \\n                      Nilüfer,\\n            ...  \n",
       "4628  \\n                      Nilüfer,\\n            ...  \n",
       "4629  \\n                      Nilüfer,\\n            ...  \n",
       "4630  \\n                      Nilüfer,\\n            ...  \n",
       "4631  \\n                      Nilüfer,\\n            ...  \n",
       "\n",
       "[4632 rows x 6 columns]"
      ]
     },
     "execution_count": 8,
     "metadata": {},
     "output_type": "execute_result"
    }
   ],
   "source": [
    "p3 = {\"Price\":p_list,  \"View Size\":v_list, \"Age\":a_list, \"Room\":r_list, \"Floortype\":f_list, \"Location\":l_list}\n",
    "df = pd.DataFrame(p3)\n",
    "df"
   ]
  },
  {
   "cell_type": "code",
   "execution_count": 9,
   "metadata": {},
   "outputs": [
    {
     "name": "stdout",
     "output_type": "stream",
     "text": [
      "<class 'pandas.core.frame.DataFrame'>\n",
      "RangeIndex: 4632 entries, 0 to 4631\n",
      "Data columns (total 6 columns):\n",
      " #   Column     Non-Null Count  Dtype \n",
      "---  ------     --------------  ----- \n",
      " 0   Price      4632 non-null   object\n",
      " 1   View Size  4632 non-null   object\n",
      " 2   Age        4632 non-null   object\n",
      " 3   Room       4632 non-null   object\n",
      " 4   Floortype  4632 non-null   object\n",
      " 5   Location   4632 non-null   object\n",
      "dtypes: object(6)\n",
      "memory usage: 217.2+ KB\n"
     ]
    }
   ],
   "source": [
    "df.info()"
   ]
  },
  {
   "cell_type": "code",
   "execution_count": 10,
   "metadata": {},
   "outputs": [],
   "source": [
    "df.to_csv('BursaEvTahmini.csv') "
   ]
  },
  {
   "cell_type": "code",
   "execution_count": 11,
   "metadata": {},
   "outputs": [],
   "source": [
    "import pandas as pd\n",
    "import seaborn as sns\n",
    "import numpy as np\n",
    "import matplotlib.pyplot as plt\n",
    "import warnings\n",
    "warnings.filterwarnings(\"ignore\")"
   ]
  },
  {
   "cell_type": "code",
   "execution_count": 12,
   "metadata": {},
   "outputs": [],
   "source": [
    "df = pd.read_csv('BursaEvTahmini.csv')"
   ]
  },
  {
   "cell_type": "code",
   "execution_count": 13,
   "metadata": {},
   "outputs": [
    {
     "name": "stdout",
     "output_type": "stream",
     "text": [
      "<class 'pandas.core.frame.DataFrame'>\n",
      "RangeIndex: 4632 entries, 0 to 4631\n",
      "Data columns (total 7 columns):\n",
      " #   Column      Non-Null Count  Dtype \n",
      "---  ------      --------------  ----- \n",
      " 0   Unnamed: 0  4632 non-null   int64 \n",
      " 1   Price       4632 non-null   object\n",
      " 2   View Size   4632 non-null   object\n",
      " 3   Age         4632 non-null   object\n",
      " 4   Room        4632 non-null   object\n",
      " 5   Floortype   4632 non-null   object\n",
      " 6   Location    4632 non-null   object\n",
      "dtypes: int64(1), object(6)\n",
      "memory usage: 253.4+ KB\n"
     ]
    }
   ],
   "source": [
    "df.info()"
   ]
  },
  {
   "cell_type": "code",
   "execution_count": 14,
   "metadata": {},
   "outputs": [],
   "source": [
    "del df['Unnamed: 0']"
   ]
  },
  {
   "cell_type": "code",
   "execution_count": 15,
   "metadata": {},
   "outputs": [
    {
     "data": {
      "text/html": [
       "<div>\n",
       "<style scoped>\n",
       "    .dataframe tbody tr th:only-of-type {\n",
       "        vertical-align: middle;\n",
       "    }\n",
       "\n",
       "    .dataframe tbody tr th {\n",
       "        vertical-align: top;\n",
       "    }\n",
       "\n",
       "    .dataframe thead th {\n",
       "        text-align: right;\n",
       "    }\n",
       "</style>\n",
       "<table border=\"1\" class=\"dataframe\">\n",
       "  <thead>\n",
       "    <tr style=\"text-align: right;\">\n",
       "      <th></th>\n",
       "      <th>Price</th>\n",
       "      <th>View Size</th>\n",
       "      <th>Age</th>\n",
       "      <th>Room</th>\n",
       "      <th>Floortype</th>\n",
       "      <th>Location</th>\n",
       "    </tr>\n",
       "  </thead>\n",
       "  <tbody>\n",
       "    <tr>\n",
       "      <th>0</th>\n",
       "      <td>\\n              2.500\\n              TL</td>\n",
       "      <td>\\n                          100 m2</td>\n",
       "      <td>25 Yaşında</td>\n",
       "      <td>2 + 1</td>\n",
       "      <td>\\n                      5. Kat</td>\n",
       "      <td>\\n                      Mudanya,\\n            ...</td>\n",
       "    </tr>\n",
       "    <tr>\n",
       "      <th>1</th>\n",
       "      <td>\\n              3.500\\n              TL</td>\n",
       "      <td>\\n                          140 m2</td>\n",
       "      <td>1 Yaşında</td>\n",
       "      <td>3 + 1</td>\n",
       "      <td>\\n                      3. Kat</td>\n",
       "      <td>\\n                      Nilüfer,\\n            ...</td>\n",
       "    </tr>\n",
       "    <tr>\n",
       "      <th>2</th>\n",
       "      <td>\\n              7.900\\n              TL</td>\n",
       "      <td>\\n                          160 m2</td>\n",
       "      <td>4 Yaşında</td>\n",
       "      <td>3 + 1</td>\n",
       "      <td>\\n                      3. Kat</td>\n",
       "      <td>\\n                      Nilüfer,\\n            ...</td>\n",
       "    </tr>\n",
       "    <tr>\n",
       "      <th>3</th>\n",
       "      <td>\\n              4.000\\n              TL</td>\n",
       "      <td>\\n                          300 m2</td>\n",
       "      <td>15 Yaşında</td>\n",
       "      <td>5 + 1</td>\n",
       "      <td>\\n                      En Üst Kat</td>\n",
       "      <td>\\n                      Nilüfer,\\n            ...</td>\n",
       "    </tr>\n",
       "    <tr>\n",
       "      <th>4</th>\n",
       "      <td>\\n              2.500\\n              TL</td>\n",
       "      <td>\\n                          80 m2</td>\n",
       "      <td>8 Yaşında</td>\n",
       "      <td>2 + 1</td>\n",
       "      <td>\\n                      3. Kat</td>\n",
       "      <td>\\n                      Nilüfer,\\n            ...</td>\n",
       "    </tr>\n",
       "  </tbody>\n",
       "</table>\n",
       "</div>"
      ],
      "text/plain": [
       "                                     Price  \\\n",
       "0  \\n              2.500\\n              TL   \n",
       "1  \\n              3.500\\n              TL   \n",
       "2  \\n              7.900\\n              TL   \n",
       "3  \\n              4.000\\n              TL   \n",
       "4  \\n              2.500\\n              TL   \n",
       "\n",
       "                            View Size         Age   Room  \\\n",
       "0  \\n                          100 m2  25 Yaşında  2 + 1   \n",
       "1  \\n                          140 m2   1 Yaşında  3 + 1   \n",
       "2  \\n                          160 m2   4 Yaşında  3 + 1   \n",
       "3  \\n                          300 m2  15 Yaşında  5 + 1   \n",
       "4   \\n                          80 m2   8 Yaşında  2 + 1   \n",
       "\n",
       "                            Floortype  \\\n",
       "0      \\n                      5. Kat   \n",
       "1      \\n                      3. Kat   \n",
       "2      \\n                      3. Kat   \n",
       "3  \\n                      En Üst Kat   \n",
       "4      \\n                      3. Kat   \n",
       "\n",
       "                                            Location  \n",
       "0  \\n                      Mudanya,\\n            ...  \n",
       "1  \\n                      Nilüfer,\\n            ...  \n",
       "2  \\n                      Nilüfer,\\n            ...  \n",
       "3  \\n                      Nilüfer,\\n            ...  \n",
       "4  \\n                      Nilüfer,\\n            ...  "
      ]
     },
     "execution_count": 15,
     "metadata": {},
     "output_type": "execute_result"
    }
   ],
   "source": [
    "df.head()"
   ]
  },
  {
   "cell_type": "code",
   "execution_count": 16,
   "metadata": {},
   "outputs": [
    {
     "data": {
      "text/plain": [
       "(4632, 6)"
      ]
     },
     "execution_count": 16,
     "metadata": {},
     "output_type": "execute_result"
    }
   ],
   "source": [
    "df.shape"
   ]
  },
  {
   "cell_type": "code",
   "execution_count": 17,
   "metadata": {},
   "outputs": [
    {
     "data": {
      "text/html": [
       "<div>\n",
       "<style scoped>\n",
       "    .dataframe tbody tr th:only-of-type {\n",
       "        vertical-align: middle;\n",
       "    }\n",
       "\n",
       "    .dataframe tbody tr th {\n",
       "        vertical-align: top;\n",
       "    }\n",
       "\n",
       "    .dataframe thead th {\n",
       "        text-align: right;\n",
       "    }\n",
       "</style>\n",
       "<table border=\"1\" class=\"dataframe\">\n",
       "  <thead>\n",
       "    <tr style=\"text-align: right;\">\n",
       "      <th></th>\n",
       "      <th>Price</th>\n",
       "      <th>View Size</th>\n",
       "      <th>Age</th>\n",
       "      <th>Room</th>\n",
       "      <th>Floortype</th>\n",
       "      <th>Location</th>\n",
       "    </tr>\n",
       "  </thead>\n",
       "  <tbody>\n",
       "    <tr>\n",
       "      <th>count</th>\n",
       "      <td>4632</td>\n",
       "      <td>4632</td>\n",
       "      <td>4632</td>\n",
       "      <td>4632</td>\n",
       "      <td>4632</td>\n",
       "      <td>4632</td>\n",
       "    </tr>\n",
       "    <tr>\n",
       "      <th>unique</th>\n",
       "      <td>17</td>\n",
       "      <td>17</td>\n",
       "      <td>13</td>\n",
       "      <td>6</td>\n",
       "      <td>14</td>\n",
       "      <td>21</td>\n",
       "    </tr>\n",
       "    <tr>\n",
       "      <th>top</th>\n",
       "      <td>\\n              2.500\\n              TL</td>\n",
       "      <td>\\n                          140 m2</td>\n",
       "      <td>Sıfır Bina</td>\n",
       "      <td>2 + 1</td>\n",
       "      <td>\\n                      3. Kat</td>\n",
       "      <td>\\n                      Nilüfer,\\n            ...</td>\n",
       "    </tr>\n",
       "    <tr>\n",
       "      <th>freq</th>\n",
       "      <td>772</td>\n",
       "      <td>579</td>\n",
       "      <td>1158</td>\n",
       "      <td>1930</td>\n",
       "      <td>965</td>\n",
       "      <td>579</td>\n",
       "    </tr>\n",
       "  </tbody>\n",
       "</table>\n",
       "</div>"
      ],
      "text/plain": [
       "                                          Price  \\\n",
       "count                                      4632   \n",
       "unique                                       17   \n",
       "top     \\n              2.500\\n              TL   \n",
       "freq                                        772   \n",
       "\n",
       "                                 View Size         Age   Room  \\\n",
       "count                                 4632        4632   4632   \n",
       "unique                                  17          13      6   \n",
       "top     \\n                          140 m2  Sıfır Bina  2 + 1   \n",
       "freq                                   579        1158   1930   \n",
       "\n",
       "                             Floortype  \\\n",
       "count                             4632   \n",
       "unique                              14   \n",
       "top     \\n                      3. Kat   \n",
       "freq                               965   \n",
       "\n",
       "                                                 Location  \n",
       "count                                                4632  \n",
       "unique                                                 21  \n",
       "top     \\n                      Nilüfer,\\n            ...  \n",
       "freq                                                  579  "
      ]
     },
     "execution_count": 17,
     "metadata": {},
     "output_type": "execute_result"
    }
   ],
   "source": [
    "df.describe()"
   ]
  },
  {
   "cell_type": "markdown",
   "metadata": {},
   "source": [
    "## Feature Engineering"
   ]
  },
  {
   "cell_type": "code",
   "execution_count": 18,
   "metadata": {},
   "outputs": [],
   "source": [
    "df['Price'] = df['Price'].str.replace('TL','')\n",
    "df['Price'] = df['Price'].str.replace('\\n','')\n",
    "df['Price'] = df['Price'].str.split('.')\n",
    "newlist = [int(\"\".join(x).strip()) for x in df['Price']]\n",
    "df['Price'] = newlist"
   ]
  },
  {
   "cell_type": "code",
   "execution_count": 19,
   "metadata": {},
   "outputs": [
    {
     "data": {
      "text/plain": [
       "<AxesSubplot:xlabel='Price', ylabel='Density'>"
      ]
     },
     "execution_count": 19,
     "metadata": {},
     "output_type": "execute_result"
    },
    {
     "data": {
      "image/png": "[encoded data removed]",
      "text/plain": [
       "<Figure size 432x288 with 1 Axes>"
      ]
     },
     "metadata": {
      "needs_background": "light"
     },
     "output_type": "display_data"
    }
   ],
   "source": [
    "sns.distplot(df['Price'])"
   ]
  },
  {
   "cell_type": "code",
   "execution_count": 20,
   "metadata": {},
   "outputs": [
    {
     "data": {
      "text/plain": [
       "<AxesSubplot:xlabel='Price'>"
      ]
     },
     "execution_count": 20,
     "metadata": {},
     "output_type": "execute_result"
    },
    {
     "data": {
      "image/png": "[encoded data removed]",
      "text/plain": [
       "<Figure size 432x288 with 1 Axes>"
      ]
     },
     "metadata": {
      "needs_background": "light"
     },
     "output_type": "display_data"
    }
   ],
   "source": [
    "sns.boxplot(df['Price'])"
   ]
  },
  {
   "cell_type": "code",
   "execution_count": 21,
   "metadata": {},
   "outputs": [
    {
     "data": {
      "text/plain": [
       "array([3, 4, 6, 5, 2])"
      ]
     },
     "execution_count": 21,
     "metadata": {},
     "output_type": "execute_result"
    }
   ],
   "source": [
    "df['Room'].replace(\"Stüdyo\",\"1\", inplace=True)\n",
    "df['Room'].unique()\n",
    "df['Room'] = [eval(x) for x in df['Room']] \n",
    "df['Room'].unique()"
   ]
  },
  {
   "cell_type": "code",
   "execution_count": 22,
   "metadata": {},
   "outputs": [
    {
     "data": {
      "text/plain": [
       "<AxesSubplot:xlabel='Room', ylabel='Density'>"
      ]
     },
     "execution_count": 22,
     "metadata": {},
     "output_type": "execute_result"
    },
    {
     "data": {
      "image/png": "[encoded data removed]",
      "text/plain": [
       "<Figure size 432x288 with 1 Axes>"
      ]
     },
     "metadata": {
      "needs_background": "light"
     },
     "output_type": "display_data"
    }
   ],
   "source": [
    "sns.distplot(df['Room'])"
   ]
  },
  {
   "cell_type": "code",
   "execution_count": 23,
   "metadata": {},
   "outputs": [
    {
     "data": {
      "text/plain": [
       "<AxesSubplot:xlabel='Room'>"
      ]
     },
     "execution_count": 23,
     "metadata": {},
     "output_type": "execute_result"
    },
    {
     "data": {
      "image/png": "[encoded data removed]",
      "text/plain": [
       "<Figure size 432x288 with 1 Axes>"
      ]
     },
     "metadata": {
      "needs_background": "light"
     },
     "output_type": "display_data"
    }
   ],
   "source": [
    "sns.boxplot(df['Room'])"
   ]
  },
  {
   "cell_type": "code",
   "execution_count": 24,
   "metadata": {},
   "outputs": [],
   "source": [
    "outliers = df.quantile(.97)\n",
    "df = df[(df['Room']<outliers['Room'])]"
   ]
  },
  {
   "cell_type": "code",
   "execution_count": 25,
   "metadata": {},
   "outputs": [
    {
     "data": {
      "text/plain": [
       "0       \\n                          100 m2\n",
       "1       \\n                          140 m2\n",
       "2       \\n                          160 m2\n",
       "4        \\n                          80 m2\n",
       "5       \\n                          350 m2\n",
       "                       ...                \n",
       "4627     \\n                          65 m2\n",
       "4628     \\n                          55 m2\n",
       "4629     \\n                          55 m2\n",
       "4630    \\n                          140 m2\n",
       "4631    \\n                          200 m2\n",
       "Name: View Size, Length: 4439, dtype: object"
      ]
     },
     "execution_count": 25,
     "metadata": {},
     "output_type": "execute_result"
    }
   ],
   "source": [
    "df['View Size']"
   ]
  },
  {
   "cell_type": "code",
   "execution_count": 26,
   "metadata": {},
   "outputs": [],
   "source": [
    "df['View Size'] = df['View Size'].str.replace('\\n','')\n",
    "df['View Size'] = df['View Size'].str.replace(' m2','')\n",
    "df['View Size'] = df['View Size'].astype('int64')"
   ]
  },
  {
   "cell_type": "code",
   "execution_count": 27,
   "metadata": {},
   "outputs": [
    {
     "data": {
      "text/plain": [
       "<AxesSubplot:xlabel='View Size', ylabel='Density'>"
      ]
     },
     "execution_count": 27,
     "metadata": {},
     "output_type": "execute_result"
    },
    {
     "data": {
      "image/png": "[encoded data removed]",
      "text/plain": [
       "<Figure size 432x288 with 1 Axes>"
      ]
     },
     "metadata": {
      "needs_background": "light"
     },
     "output_type": "display_data"
    }
   ],
   "source": [
    "sns.distplot(df['View Size'])"
   ]
  },
  {
   "cell_type": "code",
   "execution_count": 28,
   "metadata": {},
   "outputs": [
    {
     "data": {
      "text/plain": [
       "<AxesSubplot:xlabel='View Size'>"
      ]
     },
     "execution_count": 28,
     "metadata": {},
     "output_type": "execute_result"
    },
    {
     "data": {
      "image/png": "[encoded data removed]",
      "text/plain": [
       "<Figure size 432x288 with 1 Axes>"
      ]
     },
     "metadata": {
      "needs_background": "light"
     },
     "output_type": "display_data"
    }
   ],
   "source": [
    "sns.boxplot(df['View Size'])"
   ]
  },
  {
   "cell_type": "code",
   "execution_count": 29,
   "metadata": {},
   "outputs": [],
   "source": [
    "outliers = df.quantile(.97)\n",
    "df = df[(df['View Size']<outliers['View Size'])] # Getting rid of outliers"
   ]
  },
  {
   "cell_type": "code",
   "execution_count": 30,
   "metadata": {},
   "outputs": [
    {
     "data": {
      "text/plain": [
       "array(['25 Yaşında', '1 Yaşında', '4 Yaşında', '8 Yaşında', '30 Yaşında',\n",
       "       'Sıfır Bina', '22 Yaşında', '9 Yaşında', '2 Yaşında', '10 Yaşında',\n",
       "       '20 Yaşında'], dtype=object)"
      ]
     },
     "execution_count": 30,
     "metadata": {},
     "output_type": "execute_result"
    }
   ],
   "source": [
    "df['Age'].unique()"
   ]
  },
  {
   "cell_type": "code",
   "execution_count": 31,
   "metadata": {},
   "outputs": [],
   "source": [
    "df['Age'] = df['Age'].str.extract('(\\d+)');"
   ]
  },
  {
   "cell_type": "code",
   "execution_count": 32,
   "metadata": {},
   "outputs": [],
   "source": [
    "df['Age'].fillna(0, inplace=True)\n",
    "df['Age'] = df['Age'].astype('float64')"
   ]
  },
  {
   "cell_type": "code",
   "execution_count": 33,
   "metadata": {},
   "outputs": [
    {
     "data": {
      "text/plain": [
       "<AxesSubplot:xlabel='Age', ylabel='Density'>"
      ]
     },
     "execution_count": 33,
     "metadata": {},
     "output_type": "execute_result"
    },
    {
     "data": {
      "image/png": "[encoded data removed]",
      "text/plain": [
       "<Figure size 432x288 with 1 Axes>"
      ]
     },
     "metadata": {
      "needs_background": "light"
     },
     "output_type": "display_data"
    }
   ],
   "source": [
    "sns.distplot(df['Age'])"
   ]
  },
  {
   "cell_type": "code",
   "execution_count": 34,
   "metadata": {},
   "outputs": [
    {
     "data": {
      "text/plain": [
       "<AxesSubplot:xlabel='Age'>"
      ]
     },
     "execution_count": 34,
     "metadata": {},
     "output_type": "execute_result"
    },
    {
     "data": {
      "image/png": "[encoded data removed]",
      "text/plain": [
       "<Figure size 432x288 with 1 Axes>"
      ]
     },
     "metadata": {
      "needs_background": "light"
     },
     "output_type": "display_data"
    }
   ],
   "source": [
    "sns.boxplot(df['Age'])"
   ]
  },
  {
   "cell_type": "code",
   "execution_count": 35,
   "metadata": {},
   "outputs": [
    {
     "data": {
      "text/plain": [
       "<AxesSubplot:xlabel='Age', ylabel='count'>"
      ]
     },
     "execution_count": 35,
     "metadata": {},
     "output_type": "execute_result"
    },
    {
     "data": {
      "image/png": "[encoded data removed]",
      "text/plain": [
       "<Figure size 432x288 with 1 Axes>"
      ]
     },
     "metadata": {
      "needs_background": "light"
     },
     "output_type": "display_data"
    }
   ],
   "source": [
    "sns.countplot(df['Age'])"
   ]
  },
  {
   "cell_type": "code",
   "execution_count": 36,
   "metadata": {},
   "outputs": [],
   "source": [
    "outliers = df.quantile(.97)"
   ]
  },
  {
   "cell_type": "code",
   "execution_count": 37,
   "metadata": {},
   "outputs": [],
   "source": [
    "df = df[(df['Age']<outliers['Age'])]"
   ]
  },
  {
   "cell_type": "code",
   "execution_count": 38,
   "metadata": {},
   "outputs": [],
   "source": [
    "df['Floortype'] = df['Floortype'].str.replace(\"\\n\",\"\")"
   ]
  },
  {
   "cell_type": "code",
   "execution_count": 39,
   "metadata": {},
   "outputs": [],
   "source": [
    "df['Floortype'] = df['Floortype'].str.strip()"
   ]
  },
  {
   "cell_type": "code",
   "execution_count": 40,
   "metadata": {},
   "outputs": [],
   "source": [
    "df.replace(' Zemin', \"0\", inplace=True)\n",
    "\n",
    "df.replace(' Ara Kat', \"2\", inplace=True)\n",
    "\n",
    "df.replace(' Yüksek Giriş', \"1\", inplace=True)\n",
    "\n",
    "df.replace(' Giriş Katı', \"0\", inplace=True)\n",
    "\n",
    "df.replace(' Çatı Katı', \"3\", inplace=True)\n",
    "\n",
    "df.replace(' Teras Katı', \"3\", inplace=True)\n",
    "\n",
    "df.replace(' En Üst Kat', \"3\", inplace=True)\n",
    "\n",
    "df.replace(' Çatı', \"3\", inplace=True)\n",
    "\n",
    "df.replace(' Teraı', \"3\", inplace=True)\n",
    "\n",
    "df.replace(' Ar', \"2\", inplace=True)\n",
    "\n",
    "df.replace(' Bahçı', \"0\", inplace=True)\n",
    "\n",
    "df['Floortype'] = df['Floortype'].str.extract('(\\d+)');\n",
    "\n",
    "df['Floortype'].fillna(2, inplace=True)\n",
    "\n",
    "df['Floortype'] = df['Floortype'].astype('int64')"
   ]
  },
  {
   "cell_type": "code",
   "execution_count": 41,
   "metadata": {
    "scrolled": true
   },
   "outputs": [
    {
     "data": {
      "text/plain": [
       "<AxesSubplot:xlabel='Floortype', ylabel='count'>"
      ]
     },
     "execution_count": 41,
     "metadata": {},
     "output_type": "execute_result"
    },
    {
     "data": {
      "image/png": "[encoded data removed]",
      "text/plain": [
       "<Figure size 432x288 with 1 Axes>"
      ]
     },
     "metadata": {
      "needs_background": "light"
     },
     "output_type": "display_data"
    }
   ],
   "source": [
    "sns.countplot(df['Floortype'])"
   ]
  },
  {
   "cell_type": "code",
   "execution_count": 42,
   "metadata": {},
   "outputs": [
    {
     "data": {
      "text/plain": [
       "array(['\\n                      Mudanya,\\n                     \\n                      Güzelyalı Yalı Mahallesi\\n                    ',\n",
       "       '\\n                      Nilüfer,\\n                     \\n                      30 Ağustos Zafer Mahallesi\\n                    ',\n",
       "       '\\n                      Nilüfer,\\n                     \\n                      Ahmet Yesevi Mahallesi\\n                    ',\n",
       "       '\\n                      Nilüfer,\\n                     \\n                      Görükle Mahallesi\\n                    ',\n",
       "       '\\n                      Nilüfer,\\n                     \\n                      Dumlupınar Mahallesi\\n                    ',\n",
       "       '\\n                      Gemlik,\\n                     \\n                      Hisar Mahallesi\\n                    ',\n",
       "       '\\n                      Yıldırım,\\n                     \\n                      Karaağaç Mahallesi\\n                    ',\n",
       "       '\\n                      İnegöl,\\n                     \\n                      Süleymaniye Mahallesi\\n                    ',\n",
       "       '\\n                      Nilüfer,\\n                     \\n                      23 Nisan Mahallesi\\n                    ',\n",
       "       '\\n                      Orhangazi,\\n                     \\n                      Arapzade Mahallesi\\n                    ',\n",
       "       '\\n                      Mudanya,\\n                     \\n                      Altıntaş Mahallesi\\n                    ',\n",
       "       '\\n                      Mudanya,\\n                     \\n                      Güzelyalı Burgaz Mahallesi\\n                    ',\n",
       "       '\\n                      Nilüfer,\\n                     \\n                      Konak Mahallesi\\n                    ',\n",
       "       '\\n                      Nilüfer,\\n                     \\n                      Balkan Mahallesi\\n                    ',\n",
       "       '\\n                      Nilüfer,\\n                     \\n                      Balat Mahallesi\\n                    ',\n",
       "       '\\n                      Nilüfer,\\n                     \\n                      İhsaniye Mahallesi\\n                    ',\n",
       "       '\\n                      Nilüfer,\\n                     \\n                      Cumhuriyet Mahallesi\\n                    '],\n",
       "      dtype=object)"
      ]
     },
     "execution_count": 42,
     "metadata": {},
     "output_type": "execute_result"
    }
   ],
   "source": [
    "df['Location'].unique()"
   ]
  },
  {
   "cell_type": "code",
   "execution_count": 43,
   "metadata": {},
   "outputs": [],
   "source": [
    "df['Location'] = [x.split(\",\")[0] for x in df['Location']]\n",
    "df['Location'] = df['Location'].str.replace(\"\\n\",\"\")\n",
    "df['Location'] = df['Location'].str.strip()\n",
    "df['Location'] = df['Location'].astype('category') # Turning into category variable "
   ]
  },
  {
   "cell_type": "code",
   "execution_count": 44,
   "metadata": {},
   "outputs": [
    {
     "data": {
      "text/html": [
       "<div>\n",
       "<style scoped>\n",
       "    .dataframe tbody tr th:only-of-type {\n",
       "        vertical-align: middle;\n",
       "    }\n",
       "\n",
       "    .dataframe tbody tr th {\n",
       "        vertical-align: top;\n",
       "    }\n",
       "\n",
       "    .dataframe thead th {\n",
       "        text-align: right;\n",
       "    }\n",
       "</style>\n",
       "<table border=\"1\" class=\"dataframe\">\n",
       "  <thead>\n",
       "    <tr style=\"text-align: right;\">\n",
       "      <th></th>\n",
       "      <th>Price</th>\n",
       "      <th>View Size</th>\n",
       "      <th>Age</th>\n",
       "      <th>Room</th>\n",
       "      <th>Floortype</th>\n",
       "      <th>Location</th>\n",
       "    </tr>\n",
       "  </thead>\n",
       "  <tbody>\n",
       "    <tr>\n",
       "      <th>2011</th>\n",
       "      <td>1850</td>\n",
       "      <td>65</td>\n",
       "      <td>10.0</td>\n",
       "      <td>3</td>\n",
       "      <td>4</td>\n",
       "      <td>Nilüfer</td>\n",
       "    </tr>\n",
       "    <tr>\n",
       "      <th>303</th>\n",
       "      <td>1700</td>\n",
       "      <td>140</td>\n",
       "      <td>9.0</td>\n",
       "      <td>4</td>\n",
       "      <td>2</td>\n",
       "      <td>Mudanya</td>\n",
       "    </tr>\n",
       "    <tr>\n",
       "      <th>1418</th>\n",
       "      <td>7900</td>\n",
       "      <td>160</td>\n",
       "      <td>4.0</td>\n",
       "      <td>4</td>\n",
       "      <td>3</td>\n",
       "      <td>Nilüfer</td>\n",
       "    </tr>\n",
       "    <tr>\n",
       "      <th>4052</th>\n",
       "      <td>2200</td>\n",
       "      <td>55</td>\n",
       "      <td>2.0</td>\n",
       "      <td>2</td>\n",
       "      <td>2</td>\n",
       "      <td>Nilüfer</td>\n",
       "    </tr>\n",
       "    <tr>\n",
       "      <th>1666</th>\n",
       "      <td>4400</td>\n",
       "      <td>90</td>\n",
       "      <td>8.0</td>\n",
       "      <td>3</td>\n",
       "      <td>2</td>\n",
       "      <td>İnegöl</td>\n",
       "    </tr>\n",
       "    <tr>\n",
       "      <th>4056</th>\n",
       "      <td>2500</td>\n",
       "      <td>100</td>\n",
       "      <td>25.0</td>\n",
       "      <td>3</td>\n",
       "      <td>5</td>\n",
       "      <td>Mudanya</td>\n",
       "    </tr>\n",
       "    <tr>\n",
       "      <th>1176</th>\n",
       "      <td>2500</td>\n",
       "      <td>100</td>\n",
       "      <td>25.0</td>\n",
       "      <td>3</td>\n",
       "      <td>5</td>\n",
       "      <td>Mudanya</td>\n",
       "    </tr>\n",
       "    <tr>\n",
       "      <th>2324</th>\n",
       "      <td>2200</td>\n",
       "      <td>55</td>\n",
       "      <td>2.0</td>\n",
       "      <td>2</td>\n",
       "      <td>2</td>\n",
       "      <td>Nilüfer</td>\n",
       "    </tr>\n",
       "    <tr>\n",
       "      <th>4555</th>\n",
       "      <td>1850</td>\n",
       "      <td>65</td>\n",
       "      <td>10.0</td>\n",
       "      <td>3</td>\n",
       "      <td>4</td>\n",
       "      <td>Nilüfer</td>\n",
       "    </tr>\n",
       "    <tr>\n",
       "      <th>3113</th>\n",
       "      <td>5000</td>\n",
       "      <td>145</td>\n",
       "      <td>1.0</td>\n",
       "      <td>4</td>\n",
       "      <td>7</td>\n",
       "      <td>Nilüfer</td>\n",
       "    </tr>\n",
       "  </tbody>\n",
       "</table>\n",
       "</div>"
      ],
      "text/plain": [
       "      Price  View Size   Age  Room  Floortype Location\n",
       "2011   1850         65  10.0     3          4  Nilüfer\n",
       "303    1700        140   9.0     4          2  Mudanya\n",
       "1418   7900        160   4.0     4          3  Nilüfer\n",
       "4052   2200         55   2.0     2          2  Nilüfer\n",
       "1666   4400         90   8.0     3          2   İnegöl\n",
       "4056   2500        100  25.0     3          5  Mudanya\n",
       "1176   2500        100  25.0     3          5  Mudanya\n",
       "2324   2200         55   2.0     2          2  Nilüfer\n",
       "4555   1850         65  10.0     3          4  Nilüfer\n",
       "3113   5000        145   1.0     4          7  Nilüfer"
      ]
     },
     "execution_count": 44,
     "metadata": {},
     "output_type": "execute_result"
    }
   ],
   "source": [
    "df.sample(10)"
   ]
  },
  {
   "cell_type": "code",
   "execution_count": 45,
   "metadata": {},
   "outputs": [
    {
     "data": {
      "text/plain": [
       "<AxesSubplot:xlabel='Location', ylabel='Price'>"
      ]
     },
     "execution_count": 45,
     "metadata": {},
     "output_type": "execute_result"
    },
    {
     "data": {
      "image/png": "[encoded data removed]",
      "text/plain": [
       "<Figure size 842.4x595.44 with 1 Axes>"
      ]
     },
     "metadata": {},
     "output_type": "display_data"
    }
   ],
   "source": [
    "import seaborn as sns\n",
    "\n",
    "sns.set(rc={'figure.figsize':(11.7,8.27)})\n",
    "\n",
    "sns.barplot(x=df['Location'], y=df['Price'])"
   ]
  },
  {
   "cell_type": "code",
   "execution_count": 46,
   "metadata": {},
   "outputs": [],
   "source": [
    "X = df[['Room', 'View Size', 'Floortype', 'Location','Age']]\n",
    "\n",
    "y = df['Price']"
   ]
  },
  {
   "cell_type": "code",
   "execution_count": 47,
   "metadata": {},
   "outputs": [],
   "source": [
    "X=pd.get_dummies(X,drop_first=True) "
   ]
  },
  {
   "cell_type": "markdown",
   "metadata": {},
   "source": [
    "## Modelleme"
   ]
  },
  {
   "cell_type": "markdown",
   "metadata": {},
   "source": [
    "### Machine Learning"
   ]
  },
  {
   "cell_type": "code",
   "execution_count": 48,
   "metadata": {},
   "outputs": [],
   "source": [
    "from sklearn.model_selection import train_test_split\n",
    "from sklearn.linear_model import Ridge, Lasso, LinearRegression\n",
    "from sklearn.tree import ExtraTreeRegressor,DecisionTreeRegressor\n",
    "from sklearn.neighbors import KNeighborsRegressor\n",
    "from sklearn.ensemble import GradientBoostingRegressor\n",
    "\n",
    "from sklearn.metrics import r2_score,mean_absolute_error,mean_squared_error\n"
   ]
  },
  {
   "cell_type": "code",
   "execution_count": 49,
   "metadata": {},
   "outputs": [],
   "source": [
    "X_train, X_test, y_train, y_test=train_test_split(X,y,test_size=0.2,random_state=18)"
   ]
  },
  {
   "cell_type": "code",
   "execution_count": 50,
   "metadata": {},
   "outputs": [
    {
     "data": {
      "text/plain": [
       "((3088, 9), (772, 9), (3088,), (772,))"
      ]
     },
     "execution_count": 50,
     "metadata": {},
     "output_type": "execute_result"
    }
   ],
   "source": [
    "X_train.shape, X_test.shape, y_train.shape, y_test.shape"
   ]
  },
  {
   "cell_type": "code",
   "execution_count": 51,
   "metadata": {},
   "outputs": [
    {
     "data": {
      "text/plain": [
       "Price                 1.000000\n",
       "View Size             0.599899\n",
       "Floortype             0.462895\n",
       "Room                  0.385665\n",
       "Location_Orhangazi    0.224842\n",
       "Location_Yıldırım     0.186894\n",
       "Location_Nilüfer      0.161405\n",
       "Location_İnegöl       0.078742\n",
       "Age                   0.058092\n",
       "Location_Mudanya      0.029532\n",
       "Name: Price, dtype: float64"
      ]
     },
     "execution_count": 51,
     "metadata": {},
     "output_type": "execute_result"
    }
   ],
   "source": [
    "new = X.join(y)\n",
    "abs(new.corr()['Price']).sort_values(ascending=False) "
   ]
  },
  {
   "cell_type": "code",
   "execution_count": 52,
   "metadata": {},
   "outputs": [
    {
     "data": {
      "image/png": "[encoded data removed]",
      "text/plain": [
       "<Figure size 720x576 with 2 Axes>"
      ]
     },
     "metadata": {},
     "output_type": "display_data"
    }
   ],
   "source": [
    "f, ax = plt.subplots(figsize=(10, 8))\n",
    "sns.heatmap(df.corr(),annot = True);"
   ]
  },
  {
   "cell_type": "code",
   "execution_count": 53,
   "metadata": {},
   "outputs": [],
   "source": [
    "R=Ridge()\n",
    "L=Lasso()\n",
    "Lr=LinearRegression()\n",
    "Etr=ExtraTreeRegressor()\n",
    "Dtr=DecisionTreeRegressor()\n",
    "Knn=KNeighborsRegressor()\n",
    "Gbr=GradientBoostingRegressor()"
   ]
  },
  {
   "cell_type": "code",
   "execution_count": 54,
   "metadata": {},
   "outputs": [],
   "source": [
    "from sklearn.linear_model import ElasticNet"
   ]
  },
  {
   "cell_type": "code",
   "execution_count": 55,
   "metadata": {},
   "outputs": [],
   "source": [
    "E = ElasticNet()"
   ]
  },
  {
   "cell_type": "code",
   "execution_count": 56,
   "metadata": {},
   "outputs": [],
   "source": [
    "from sklearn.model_selection import KFold,cross_val_score\n",
    "from sklearn.metrics import make_scorer,r2_score\n",
    "def test_model(model, X_train=X_train, y_train=y_train):\n",
    "    cv = KFold(n_splits=10,shuffle=True,random_state=45)\n",
    "    r2 = make_scorer(r2_score)\n",
    "    r2_val_score = cross_val_score(model,X_train,y_train,cv=cv,scoring=r2)\n",
    "    score = [r2_val_score.mean()]\n",
    "    return score"
   ]
  },
  {
   "cell_type": "code",
   "execution_count": 57,
   "metadata": {},
   "outputs": [],
   "source": [
    "from sklearn.linear_model import LinearRegression,Ridge,Lasso\n",
    "Lr = LinearRegression(normalize=True, n_jobs=-1)"
   ]
  },
  {
   "cell_type": "code",
   "execution_count": 58,
   "metadata": {},
   "outputs": [
    {
     "data": {
      "text/plain": [
       "[0.6697696034913027]"
      ]
     },
     "execution_count": 58,
     "metadata": {},
     "output_type": "execute_result"
    }
   ],
   "source": [
    "test_model(Lr)"
   ]
  },
  {
   "cell_type": "code",
   "execution_count": 59,
   "metadata": {},
   "outputs": [
    {
     "data": {
      "text/plain": [
       "[0.6697717186017995]"
      ]
     },
     "execution_count": 59,
     "metadata": {},
     "output_type": "execute_result"
    }
   ],
   "source": [
    "Rdg = Ridge(alpha = 1e-4, normalize=True)\n",
    "test_model(Rdg)"
   ]
  },
  {
   "cell_type": "code",
   "execution_count": 60,
   "metadata": {},
   "outputs": [
    {
     "data": {
      "text/plain": [
       "[0.6697697171242328]"
      ]
     },
     "execution_count": 60,
     "metadata": {},
     "output_type": "execute_result"
    }
   ],
   "source": [
    "Las = Lasso(alpha = 1e-4, normalize=True)\n",
    "test_model(Las)"
   ]
  },
  {
   "cell_type": "code",
   "execution_count": 61,
   "metadata": {},
   "outputs": [],
   "source": [
    "from sklearn.tree import DecisionTreeRegressor\n",
    "DCR = DecisionTreeRegressor(max_depth=5)"
   ]
  },
  {
   "cell_type": "code",
   "execution_count": 62,
   "metadata": {},
   "outputs": [
    {
     "data": {
      "text/plain": [
       "[0.9897321643216269]"
      ]
     },
     "execution_count": 62,
     "metadata": {},
     "output_type": "execute_result"
    }
   ],
   "source": [
    "test_model(DCR)"
   ]
  },
  {
   "cell_type": "code",
   "execution_count": 63,
   "metadata": {},
   "outputs": [],
   "source": [
    "from sklearn.svm import SVR\n",
    "Svm = SVR(kernel='rbf')"
   ]
  },
  {
   "cell_type": "code",
   "execution_count": 64,
   "metadata": {},
   "outputs": [
    {
     "data": {
      "text/plain": [
       "[0.11023305877352621]"
      ]
     },
     "execution_count": 64,
     "metadata": {},
     "output_type": "execute_result"
    }
   ],
   "source": [
    "test_model(Svm)"
   ]
  },
  {
   "cell_type": "code",
   "execution_count": 65,
   "metadata": {},
   "outputs": [],
   "source": [
    "from sklearn.model_selection import RandomizedSearchCV, GridSearchCV\n",
    "params = {'kernel': ['rbf'],\n",
    "         'gamma': [1,0.1,0.01,0.001,0.0001,0.0002,0.0003,0.0004],\n",
    "         'C': [0.1,1,10,20,100,1000],\n",
    "         'epsilon': [1,0.2,0.1,0.01,0.001,0.02,0.003,0.004,0.005,0.006,0.007,0.008,0.0001]}"
   ]
  },
  {
   "cell_type": "code",
   "execution_count": 66,
   "metadata": {},
   "outputs": [
    {
     "data": {
      "text/plain": [
       "0.9657788066929508"
      ]
     },
     "execution_count": 66,
     "metadata": {},
     "output_type": "execute_result"
    }
   ],
   "source": [
    "rand_search = RandomizedSearchCV(Svm , param_distributions=params , n_jobs=-1 , cv=11)\n",
    "rand_search.fit(X_train,y_train)\n",
    "rand_search.best_score_"
   ]
  },
  {
   "cell_type": "code",
   "execution_count": 67,
   "metadata": {},
   "outputs": [
    {
     "data": {
      "text/plain": [
       "[0.39887445716970593]"
      ]
     },
     "execution_count": 67,
     "metadata": {},
     "output_type": "execute_result"
    }
   ],
   "source": [
    "Svm2 = SVR(kernel='rbf',C= 20, epsilon= 0.008, gamma=0.0003)\n",
    "test_model(Svm2)"
   ]
  },
  {
   "cell_type": "code",
   "execution_count": 68,
   "metadata": {},
   "outputs": [],
   "source": [
    "from sklearn.linear_model import ElasticNet\n",
    "from sklearn.tree import ExtraTreeRegressor\n",
    "from sklearn.ensemble import GradientBoostingRegressor\n",
    "from sklearn.metrics import mean_absolute_error\n",
    "from sklearn.linear_model import Ridge,Lasso\n",
    "from sklearn.metrics import mean_squared_error,r2_score"
   ]
  },
  {
   "cell_type": "code",
   "execution_count": 69,
   "metadata": {},
   "outputs": [],
   "source": [
    "def algo_test(x, y):\n",
    "    \n",
    "    L = LinearRegression()\n",
    "    E = ElasticNet()\n",
    "    R = Ridge()\n",
    "    Lass = Lasso()\n",
    "    ETR = ExtraTreeRegressor()\n",
    "    GBR = GradientBoostingRegressor()\n",
    "    \n",
    "    X_train, X_test, y_train, y_test = train_test_split(X, y, test_size = 0.2, random_state=13)\n",
    "    \n",
    "    algos = [L, E, R, Lass, ETR, GBR]\n",
    "    algo_names= ['Linear', 'ElasticNet', 'Ridge', 'Lasso', 'Extra Tree', 'Gradient Boosting']\n",
    "    r_squared = []\n",
    "    rmse = []\n",
    "    mae = []\n",
    "    \n",
    "    result = pd.DataFrame(columns = ['R_Squared', 'RMSE', 'MAE'],\n",
    "                           index = algo_names)\n",
    "    \n",
    "    for algo in algos:\n",
    "        algo.fit(X_train, y_train)\n",
    "        algo.predict(X_test)\n",
    "        \n",
    "        r_squared.append(r2_score(y_test, algo.predict(X_test)))\n",
    "        rmse.append(mean_squared_error(y_test, algo.predict(X_test))**.5)\n",
    "        mae.append(mean_absolute_error(y_test, algo.predict(X_test)))\n",
    "        \n",
    "    result.R_Squared = r_squared\n",
    "    result.RMSE = rmse\n",
    "    result.MAE = mae\n",
    "    \n",
    "    return result.sort_values('R_Squared', ascending=False)"
   ]
  },
  {
   "cell_type": "code",
   "execution_count": 70,
   "metadata": {},
   "outputs": [
    {
     "data": {
      "text/html": [
       "<div>\n",
       "<style scoped>\n",
       "    .dataframe tbody tr th:only-of-type {\n",
       "        vertical-align: middle;\n",
       "    }\n",
       "\n",
       "    .dataframe tbody tr th {\n",
       "        vertical-align: top;\n",
       "    }\n",
       "\n",
       "    .dataframe thead th {\n",
       "        text-align: right;\n",
       "    }\n",
       "</style>\n",
       "<table border=\"1\" class=\"dataframe\">\n",
       "  <thead>\n",
       "    <tr style=\"text-align: right;\">\n",
       "      <th></th>\n",
       "      <th>R_Squared</th>\n",
       "      <th>RMSE</th>\n",
       "      <th>MAE</th>\n",
       "    </tr>\n",
       "  </thead>\n",
       "  <tbody>\n",
       "    <tr>\n",
       "      <th>Extra Tree</th>\n",
       "      <td>1.000000</td>\n",
       "      <td>0.000000</td>\n",
       "      <td>0.000000</td>\n",
       "    </tr>\n",
       "    <tr>\n",
       "      <th>Gradient Boosting</th>\n",
       "      <td>0.999843</td>\n",
       "      <td>22.721960</td>\n",
       "      <td>19.518379</td>\n",
       "    </tr>\n",
       "    <tr>\n",
       "      <th>Linear</th>\n",
       "      <td>0.667224</td>\n",
       "      <td>1047.419396</td>\n",
       "      <td>733.803285</td>\n",
       "    </tr>\n",
       "    <tr>\n",
       "      <th>Lasso</th>\n",
       "      <td>0.667117</td>\n",
       "      <td>1047.587908</td>\n",
       "      <td>735.132793</td>\n",
       "    </tr>\n",
       "    <tr>\n",
       "      <th>Ridge</th>\n",
       "      <td>0.667095</td>\n",
       "      <td>1047.621665</td>\n",
       "      <td>734.658811</td>\n",
       "    </tr>\n",
       "    <tr>\n",
       "      <th>ElasticNet</th>\n",
       "      <td>0.557309</td>\n",
       "      <td>1208.077729</td>\n",
       "      <td>891.071514</td>\n",
       "    </tr>\n",
       "  </tbody>\n",
       "</table>\n",
       "</div>"
      ],
      "text/plain": [
       "                   R_Squared         RMSE         MAE\n",
       "Extra Tree          1.000000     0.000000    0.000000\n",
       "Gradient Boosting   0.999843    22.721960   19.518379\n",
       "Linear              0.667224  1047.419396  733.803285\n",
       "Lasso               0.667117  1047.587908  735.132793\n",
       "Ridge               0.667095  1047.621665  734.658811\n",
       "ElasticNet          0.557309  1208.077729  891.071514"
      ]
     },
     "execution_count": 70,
     "metadata": {},
     "output_type": "execute_result"
    }
   ],
   "source": [
    "algo_test(X, y)"
   ]
  },
  {
   "cell_type": "markdown",
   "metadata": {},
   "source": [
    "### Deep Learning"
   ]
  },
  {
   "cell_type": "code",
   "execution_count": 71,
   "metadata": {},
   "outputs": [],
   "source": [
    "import tensorflow as tf"
   ]
  },
  {
   "cell_type": "code",
   "execution_count": 72,
   "metadata": {},
   "outputs": [],
   "source": [
    "from tensorflow.keras.models import Sequential\n",
    "from tensorflow.keras.layers import Dense \n",
    "from tensorflow.keras.layers import Dropout\n",
    "from tensorflow.keras.callbacks import EarlyStopping"
   ]
  },
  {
   "cell_type": "code",
   "execution_count": 73,
   "metadata": {},
   "outputs": [],
   "source": [
    "model=Sequential()\n",
    "\n",
    "model.add(Dense(30,activation=\"relu\"))\n",
    "\n",
    "model.add(Dense(25,activation=\"relu\"))\n",
    "\n",
    "model.add(Dense(20,activation=\"relu\"))\n",
    "\n",
    "model.add(Dense(20,activation=\"relu\"))\n",
    "\n",
    "model.add(Dense(10,activation=\"relu\"))\n",
    "\n",
    "model.add(Dense(1))\n",
    "\n",
    "model.compile(loss=\"mse\",optimizer=\"adam\")"
   ]
  },
  {
   "cell_type": "code",
   "execution_count": 74,
   "metadata": {},
   "outputs": [
    {
     "name": "stdout",
     "output_type": "stream",
     "text": [
      "Epoch 1/450\n",
      "97/97 [==============================] - 3s 11ms/step - loss: 12061004.0000 - val_loss: 2432659.5000\n",
      "Epoch 2/450\n",
      "97/97 [==============================] - 1s 7ms/step - loss: 2306672.0000 - val_loss: 2235655.7500\n",
      "Epoch 3/450\n",
      "97/97 [==============================] - 1s 8ms/step - loss: 2131705.0000 - val_loss: 2102248.5000\n",
      "Epoch 4/450\n",
      "97/97 [==============================] - 1s 7ms/step - loss: 1996142.6250 - val_loss: 1971376.2500\n",
      "Epoch 5/450\n",
      "97/97 [==============================] - 1s 6ms/step - loss: 1872282.5000 - val_loss: 1827284.2500\n",
      "Epoch 6/450\n",
      "97/97 [==============================] - 1s 7ms/step - loss: 1767427.0000 - val_loss: 1743224.3750\n",
      "Epoch 7/450\n",
      "97/97 [==============================] - 1s 7ms/step - loss: 1681983.5000 - val_loss: 1650253.7500\n",
      "Epoch 8/450\n",
      "97/97 [==============================] - 1s 6ms/step - loss: 1623003.8750 - val_loss: 1585228.8750\n",
      "Epoch 9/450\n",
      "97/97 [==============================] - 1s 6ms/step - loss: 1569174.2500 - val_loss: 1530587.5000\n",
      "Epoch 10/450\n",
      "97/97 [==============================] - 1s 6ms/step - loss: 1535938.3750 - val_loss: 1481761.8750\n",
      "Epoch 11/450\n",
      "97/97 [==============================] - 1s 7ms/step - loss: 1489346.3750 - val_loss: 1450474.5000\n",
      "Epoch 12/450\n",
      "97/97 [==============================] - 1s 7ms/step - loss: 1445808.2500 - val_loss: 1447651.6250\n",
      "Epoch 13/450\n",
      "97/97 [==============================] - 1s 6ms/step - loss: 1418167.8750 - val_loss: 1440152.5000\n",
      "Epoch 14/450\n",
      "97/97 [==============================] - 1s 7ms/step - loss: 1406970.7500 - val_loss: 1344974.8750\n",
      "Epoch 15/450\n",
      "97/97 [==============================] - 1s 6ms/step - loss: 1384107.5000 - val_loss: 1323908.2500\n",
      "Epoch 16/450\n",
      "97/97 [==============================] - 1s 7ms/step - loss: 1361437.3750 - val_loss: 1324005.6250\n",
      "Epoch 17/450\n",
      "97/97 [==============================] - 1s 7ms/step - loss: 1349267.8750 - val_loss: 1305889.6250\n",
      "Epoch 18/450\n",
      "97/97 [==============================] - 1s 7ms/step - loss: 1343504.1250 - val_loss: 1302074.5000\n",
      "Epoch 19/450\n",
      "97/97 [==============================] - 1s 6ms/step - loss: 1330825.2500 - val_loss: 1300779.2500\n",
      "Epoch 20/450\n",
      "97/97 [==============================] - 1s 6ms/step - loss: 1312142.0000 - val_loss: 1282606.1250\n",
      "Epoch 21/450\n",
      "97/97 [==============================] - 1s 6ms/step - loss: 1315178.2500 - val_loss: 1301302.2500\n",
      "Epoch 22/450\n",
      "97/97 [==============================] - 1s 6ms/step - loss: 1296589.6250 - val_loss: 1232122.0000\n",
      "Epoch 23/450\n",
      "97/97 [==============================] - 1s 6ms/step - loss: 1284272.2500 - val_loss: 1219699.7500\n",
      "Epoch 24/450\n",
      "97/97 [==============================] - 1s 6ms/step - loss: 1269425.0000 - val_loss: 1208874.0000\n",
      "Epoch 25/450\n",
      "97/97 [==============================] - 1s 7ms/step - loss: 1272711.1250 - val_loss: 1222309.6250\n",
      "Epoch 26/450\n",
      "97/97 [==============================] - 1s 7ms/step - loss: 1242398.8750 - val_loss: 1202320.3750\n",
      "Epoch 27/450\n",
      "97/97 [==============================] - 1s 6ms/step - loss: 1235325.1250 - val_loss: 1201365.7500\n",
      "Epoch 28/450\n",
      "97/97 [==============================] - 1s 7ms/step - loss: 1228385.8750 - val_loss: 1165795.8750\n",
      "Epoch 29/450\n",
      "97/97 [==============================] - 1s 7ms/step - loss: 1207282.1250 - val_loss: 1145170.7500\n",
      "Epoch 30/450\n",
      "97/97 [==============================] - 1s 7ms/step - loss: 1197994.7500 - val_loss: 1132178.6250\n",
      "Epoch 31/450\n",
      "97/97 [==============================] - 1s 7ms/step - loss: 1177934.5000 - val_loss: 1114889.2500\n",
      "Epoch 32/450\n",
      "97/97 [==============================] - 1s 7ms/step - loss: 1170016.8750 - val_loss: 1104547.1250\n",
      "Epoch 33/450\n",
      "97/97 [==============================] - 1s 7ms/step - loss: 1171817.0000 - val_loss: 1089548.2500\n",
      "Epoch 34/450\n",
      "97/97 [==============================] - 1s 6ms/step - loss: 1132737.1250 - val_loss: 1141380.7500\n",
      "Epoch 35/450\n",
      "97/97 [==============================] - 1s 6ms/step - loss: 1129884.1250 - val_loss: 1064405.0000\n",
      "Epoch 36/450\n",
      "97/97 [==============================] - 1s 6ms/step - loss: 1110366.8750 - val_loss: 1057040.8750\n",
      "Epoch 37/450\n",
      "97/97 [==============================] - 1s 6ms/step - loss: 1084969.2500 - val_loss: 1027018.1250\n",
      "Epoch 38/450\n",
      "97/97 [==============================] - 1s 6ms/step - loss: 1062069.2500 - val_loss: 999996.6875\n",
      "Epoch 39/450\n",
      "97/97 [==============================] - 1s 7ms/step - loss: 1051103.6250 - val_loss: 979755.4375\n",
      "Epoch 40/450\n",
      "97/97 [==============================] - 1s 7ms/step - loss: 1025151.5625 - val_loss: 956060.4375\n",
      "Epoch 41/450\n",
      "97/97 [==============================] - 1s 6ms/step - loss: 988130.5625 - val_loss: 933006.4375\n",
      "Epoch 42/450\n",
      "97/97 [==============================] - 1s 6ms/step - loss: 975762.1250 - val_loss: 912509.9375\n",
      "Epoch 43/450\n",
      "97/97 [==============================] - 1s 6ms/step - loss: 961461.1250 - val_loss: 946043.9375\n",
      "Epoch 44/450\n",
      "97/97 [==============================] - 1s 6ms/step - loss: 920063.3125 - val_loss: 863623.4375\n",
      "Epoch 45/450\n",
      "97/97 [==============================] - 1s 6ms/step - loss: 910538.2500 - val_loss: 852687.2500\n",
      "Epoch 46/450\n",
      "97/97 [==============================] - 1s 6ms/step - loss: 860408.8125 - val_loss: 805728.5625\n",
      "Epoch 47/450\n",
      "97/97 [==============================] - 1s 7ms/step - loss: 832337.8125 - val_loss: 766917.8750\n",
      "Epoch 48/450\n",
      "97/97 [==============================] - 1s 7ms/step - loss: 791636.7500 - val_loss: 711519.1875\n",
      "Epoch 49/450\n",
      "97/97 [==============================] - 1s 6ms/step - loss: 760408.3750 - val_loss: 740453.0625\n",
      "Epoch 50/450\n",
      "97/97 [==============================] - 1s 6ms/step - loss: 710058.2500 - val_loss: 692653.0000\n",
      "Epoch 51/450\n",
      "97/97 [==============================] - 1s 7ms/step - loss: 691517.3750 - val_loss: 622060.4375\n",
      "Epoch 52/450\n",
      "97/97 [==============================] - 1s 7ms/step - loss: 665239.8125 - val_loss: 624548.5000\n",
      "Epoch 53/450\n",
      "97/97 [==============================] - 1s 8ms/step - loss: 635072.1250 - val_loss: 599196.0625\n",
      "Epoch 54/450\n",
      "97/97 [==============================] - 1s 7ms/step - loss: 608347.3750 - val_loss: 594132.5625\n",
      "Epoch 55/450\n",
      "97/97 [==============================] - 1s 6ms/step - loss: 590835.3750 - val_loss: 552788.8750\n",
      "Epoch 56/450\n",
      "97/97 [==============================] - 1s 6ms/step - loss: 558886.6875 - val_loss: 507983.3750\n",
      "Epoch 57/450\n",
      "97/97 [==============================] - 1s 6ms/step - loss: 509663.1562 - val_loss: 455054.9375\n",
      "Epoch 58/450\n",
      "97/97 [==============================] - 1s 6ms/step - loss: 450731.3125 - val_loss: 421322.6250\n",
      "Epoch 59/450\n",
      "97/97 [==============================] - 1s 6ms/step - loss: 405407.4688 - val_loss: 421587.7812\n",
      "Epoch 60/450\n",
      "97/97 [==============================] - 1s 6ms/step - loss: 367540.1562 - val_loss: 335499.4062\n",
      "Epoch 61/450\n",
      "97/97 [==============================] - 1s 6ms/step - loss: 341779.0312 - val_loss: 328006.1250\n",
      "Epoch 62/450\n",
      "97/97 [==============================] - 1s 6ms/step - loss: 322562.3750 - val_loss: 310415.1562\n",
      "Epoch 63/450\n",
      "97/97 [==============================] - 1s 6ms/step - loss: 331948.0312 - val_loss: 291606.5000\n",
      "Epoch 64/450\n",
      "97/97 [==============================] - 1s 6ms/step - loss: 292638.8750 - val_loss: 284543.6562\n",
      "Epoch 65/450\n",
      "97/97 [==============================] - 1s 6ms/step - loss: 290852.0938 - val_loss: 317316.4688\n",
      "Epoch 66/450\n",
      "97/97 [==============================] - 1s 6ms/step - loss: 282877.8125 - val_loss: 288771.1562\n",
      "Epoch 67/450\n",
      "97/97 [==============================] - 1s 6ms/step - loss: 272481.6875 - val_loss: 271200.4688\n",
      "Epoch 68/450\n",
      "97/97 [==============================] - 1s 6ms/step - loss: 259473.1562 - val_loss: 271652.3438\n",
      "Epoch 69/450\n",
      "97/97 [==============================] - 1s 6ms/step - loss: 255648.5781 - val_loss: 266424.6250\n",
      "Epoch 70/450\n",
      "97/97 [==============================] - 1s 6ms/step - loss: 253289.9844 - val_loss: 278362.6875\n",
      "Epoch 71/450\n",
      "97/97 [==============================] - 1s 6ms/step - loss: 258557.0781 - val_loss: 288773.3125\n",
      "Epoch 72/450\n",
      "97/97 [==============================] - 1s 6ms/step - loss: 249988.8906 - val_loss: 280565.8438\n",
      "Epoch 73/450\n",
      "97/97 [==============================] - 1s 6ms/step - loss: 247019.8906 - val_loss: 259971.6406\n",
      "Epoch 74/450\n",
      "97/97 [==============================] - 1s 7ms/step - loss: 248516.1406 - val_loss: 248669.6562\n",
      "Epoch 75/450\n",
      "97/97 [==============================] - 1s 6ms/step - loss: 231231.7969 - val_loss: 239548.5000\n",
      "Epoch 76/450\n",
      "97/97 [==============================] - 1s 6ms/step - loss: 233152.3594 - val_loss: 251336.0625\n",
      "Epoch 77/450\n",
      "97/97 [==============================] - 1s 6ms/step - loss: 226207.3750 - val_loss: 231051.3750\n",
      "Epoch 78/450\n",
      "97/97 [==============================] - 1s 6ms/step - loss: 226664.1250 - val_loss: 233706.8438\n",
      "Epoch 79/450\n",
      "97/97 [==============================] - 1s 6ms/step - loss: 216619.8281 - val_loss: 217998.1094\n",
      "Epoch 80/450\n",
      "97/97 [==============================] - 1s 7ms/step - loss: 209805.3125 - val_loss: 222845.4062\n",
      "Epoch 81/450\n",
      "97/97 [==============================] - 1s 7ms/step - loss: 205184.5625 - val_loss: 254468.4531\n",
      "Epoch 82/450\n",
      "97/97 [==============================] - 1s 7ms/step - loss: 196359.8125 - val_loss: 196052.8906\n",
      "Epoch 83/450\n",
      "97/97 [==============================] - 1s 7ms/step - loss: 187448.8125 - val_loss: 179483.8594\n",
      "Epoch 84/450\n",
      "97/97 [==============================] - 1s 7ms/step - loss: 178903.0938 - val_loss: 171121.5781\n",
      "Epoch 85/450\n",
      "97/97 [==============================] - 1s 7ms/step - loss: 163349.7656 - val_loss: 168335.5469\n",
      "Epoch 86/450\n",
      "97/97 [==============================] - 1s 7ms/step - loss: 159186.5625 - val_loss: 165825.9688\n",
      "Epoch 87/450\n",
      "97/97 [==============================] - 1s 7ms/step - loss: 152889.7812 - val_loss: 154546.3906\n",
      "Epoch 88/450\n",
      "97/97 [==============================] - 1s 7ms/step - loss: 141974.0469 - val_loss: 144148.9844\n",
      "Epoch 89/450\n",
      "97/97 [==============================] - 1s 6ms/step - loss: 138272.8906 - val_loss: 134333.0156\n",
      "Epoch 90/450\n",
      "97/97 [==============================] - 1s 6ms/step - loss: 124278.2656 - val_loss: 126419.9609\n",
      "Epoch 91/450\n",
      "97/97 [==============================] - 1s 7ms/step - loss: 123450.1953 - val_loss: 121723.1094\n",
      "Epoch 92/450\n",
      "97/97 [==============================] - 1s 6ms/step - loss: 113048.1953 - val_loss: 144104.2031\n",
      "Epoch 93/450\n",
      "97/97 [==============================] - 1s 6ms/step - loss: 116845.8359 - val_loss: 111949.0547\n",
      "Epoch 94/450\n",
      "97/97 [==============================] - 1s 6ms/step - loss: 107325.4844 - val_loss: 108465.2109\n",
      "Epoch 95/450\n",
      "97/97 [==============================] - 1s 6ms/step - loss: 103704.6406 - val_loss: 109063.0156\n",
      "Epoch 96/450\n",
      "97/97 [==============================] - 1s 6ms/step - loss: 97008.1641 - val_loss: 98136.0234\n",
      "Epoch 97/450\n",
      "97/97 [==============================] - 1s 6ms/step - loss: 92252.7578 - val_loss: 96036.7656\n",
      "Epoch 98/450\n",
      "97/97 [==============================] - 1s 6ms/step - loss: 90521.8359 - val_loss: 88927.4922\n",
      "Epoch 99/450\n",
      "97/97 [==============================] - 1s 6ms/step - loss: 85858.3672 - val_loss: 86561.6484\n",
      "Epoch 100/450\n",
      "97/97 [==============================] - 1s 7ms/step - loss: 83482.2109 - val_loss: 85021.4062\n",
      "Epoch 101/450\n",
      "97/97 [==============================] - 1s 7ms/step - loss: 77735.2891 - val_loss: 81692.0234\n",
      "Epoch 102/450\n",
      "97/97 [==============================] - 1s 7ms/step - loss: 72517.7891 - val_loss: 72757.8516\n",
      "Epoch 103/450\n",
      "97/97 [==============================] - 1s 7ms/step - loss: 72869.3047 - val_loss: 69502.3438\n",
      "Epoch 104/450\n",
      "97/97 [==============================] - 1s 6ms/step - loss: 68244.5078 - val_loss: 66074.1875\n",
      "Epoch 105/450\n",
      "97/97 [==============================] - 1s 6ms/step - loss: 64732.1602 - val_loss: 61217.0273\n",
      "Epoch 106/450\n",
      "97/97 [==============================] - 1s 7ms/step - loss: 59942.1094 - val_loss: 64904.4805\n",
      "Epoch 107/450\n",
      "97/97 [==============================] - 1s 7ms/step - loss: 60566.4492 - val_loss: 56494.5703\n",
      "Epoch 108/450\n",
      "97/97 [==============================] - 1s 6ms/step - loss: 55283.3125 - val_loss: 60097.8047\n",
      "Epoch 109/450\n",
      "97/97 [==============================] - 1s 6ms/step - loss: 52369.3320 - val_loss: 54234.9336\n",
      "Epoch 110/450\n",
      "97/97 [==============================] - 1s 6ms/step - loss: 50385.4961 - val_loss: 50697.1289\n",
      "Epoch 111/450\n",
      "97/97 [==============================] - 1s 7ms/step - loss: 42430.7578 - val_loss: 37281.1953\n",
      "Epoch 112/450\n",
      "97/97 [==============================] - 1s 7ms/step - loss: 35838.8477 - val_loss: 48032.6523\n",
      "Epoch 113/450\n",
      "97/97 [==============================] - 1s 6ms/step - loss: 46658.4258 - val_loss: 39619.1914\n",
      "Epoch 114/450\n",
      "97/97 [==============================] - 1s 6ms/step - loss: 31891.5898 - val_loss: 26579.0000\n",
      "Epoch 115/450\n",
      "97/97 [==============================] - 1s 6ms/step - loss: 25824.8965 - val_loss: 23328.4902\n",
      "Epoch 116/450\n",
      "97/97 [==============================] - 1s 6ms/step - loss: 24103.2363 - val_loss: 23965.9297\n",
      "Epoch 117/450\n",
      "97/97 [==============================] - 1s 6ms/step - loss: 26365.0938 - val_loss: 20977.7910\n",
      "Epoch 118/450\n",
      "97/97 [==============================] - 1s 6ms/step - loss: 20854.0449 - val_loss: 18177.8789\n",
      "Epoch 119/450\n",
      "97/97 [==============================] - 1s 6ms/step - loss: 18816.3828 - val_loss: 14997.3506\n",
      "Epoch 120/450\n",
      "97/97 [==============================] - 1s 6ms/step - loss: 15355.7988 - val_loss: 12004.0391\n",
      "Epoch 121/450\n",
      "97/97 [==============================] - 1s 6ms/step - loss: 13305.2490 - val_loss: 10892.5107\n",
      "Epoch 122/450\n",
      "97/97 [==============================] - 1s 6ms/step - loss: 11981.3643 - val_loss: 13241.3467\n",
      "Epoch 123/450\n",
      "97/97 [==============================] - 1s 6ms/step - loss: 11089.0439 - val_loss: 9392.5947\n",
      "Epoch 124/450\n",
      "97/97 [==============================] - 1s 6ms/step - loss: 13642.5244 - val_loss: 8305.1738\n",
      "Epoch 125/450\n",
      "97/97 [==============================] - 1s 6ms/step - loss: 9540.4590 - val_loss: 8386.7314\n",
      "Epoch 126/450\n",
      "97/97 [==============================] - 1s 7ms/step - loss: 8640.5488 - val_loss: 6496.9390\n",
      "Epoch 127/450\n",
      "97/97 [==============================] - 1s 7ms/step - loss: 8235.4600 - val_loss: 5984.6606\n",
      "Epoch 128/450\n",
      "97/97 [==============================] - 1s 6ms/step - loss: 7487.2681 - val_loss: 5354.4541\n",
      "Epoch 129/450\n",
      "97/97 [==============================] - 1s 6ms/step - loss: 6376.2104 - val_loss: 5457.0874\n",
      "Epoch 130/450\n",
      "97/97 [==============================] - 1s 7ms/step - loss: 5875.8950 - val_loss: 7574.7993\n",
      "Epoch 131/450\n",
      "97/97 [==============================] - 1s 7ms/step - loss: 5198.4497 - val_loss: 6492.6353\n",
      "Epoch 132/450\n",
      "97/97 [==============================] - 1s 6ms/step - loss: 4473.8486 - val_loss: 5452.8535\n",
      "Epoch 133/450\n",
      "97/97 [==============================] - 1s 6ms/step - loss: 5257.0034 - val_loss: 6230.6372\n",
      "Epoch 134/450\n",
      "97/97 [==============================] - 1s 6ms/step - loss: 4553.7026 - val_loss: 1729.4636\n",
      "Epoch 135/450\n",
      "97/97 [==============================] - 1s 6ms/step - loss: 3288.2209 - val_loss: 2662.5112\n",
      "Epoch 136/450\n",
      "97/97 [==============================] - 1s 6ms/step - loss: 2070.5781 - val_loss: 583.0074\n",
      "Epoch 137/450\n",
      "97/97 [==============================] - 1s 6ms/step - loss: 496.8572 - val_loss: 381.5884\n",
      "Epoch 138/450\n",
      "97/97 [==============================] - 1s 6ms/step - loss: 319.2202 - val_loss: 283.3093\n",
      "Epoch 139/450\n",
      "97/97 [==============================] - 1s 6ms/step - loss: 159.4895 - val_loss: 203.0455\n",
      "Epoch 140/450\n",
      "97/97 [==============================] - 1s 6ms/step - loss: 123.4525 - val_loss: 179.3546\n",
      "Epoch 141/450\n",
      "97/97 [==============================] - 1s 6ms/step - loss: 155.2524 - val_loss: 108.6188\n",
      "Epoch 142/450\n",
      "97/97 [==============================] - 1s 6ms/step - loss: 411.2743 - val_loss: 512.3824\n",
      "Epoch 143/450\n",
      "97/97 [==============================] - 1s 6ms/step - loss: 693.3271 - val_loss: 493.3931\n",
      "Epoch 144/450\n",
      "97/97 [==============================] - 1s 6ms/step - loss: 210.7975 - val_loss: 27.3165\n",
      "Epoch 145/450\n",
      "97/97 [==============================] - 1s 6ms/step - loss: 349.5014 - val_loss: 711.0164\n",
      "Epoch 146/450\n",
      "97/97 [==============================] - 1s 6ms/step - loss: 43343.2344 - val_loss: 198131.0469\n",
      "Epoch 147/450\n",
      "97/97 [==============================] - 1s 6ms/step - loss: 17538.1211 - val_loss: 1808.1633\n",
      "Epoch 148/450\n",
      "97/97 [==============================] - 1s 6ms/step - loss: 550.1331 - val_loss: 77.0552\n",
      "Epoch 149/450\n",
      "97/97 [==============================] - 1s 6ms/step - loss: 42.5617 - val_loss: 23.0239\n",
      "Epoch 150/450\n",
      "97/97 [==============================] - 1s 6ms/step - loss: 18.2569 - val_loss: 20.4502\n",
      "Epoch 151/450\n",
      "97/97 [==============================] - 1s 6ms/step - loss: 16.4064 - val_loss: 12.4505\n",
      "Epoch 152/450\n",
      "97/97 [==============================] - 1s 6ms/step - loss: 11.6984 - val_loss: 15.0627\n",
      "Epoch 153/450\n",
      "97/97 [==============================] - 1s 6ms/step - loss: 12.9903 - val_loss: 17.6020\n",
      "Epoch 154/450\n",
      "97/97 [==============================] - 1s 12ms/step - loss: 10.4801 - val_loss: 10.5748\n",
      "Epoch 155/450\n",
      "97/97 [==============================] - 0s 3ms/step - loss: 12.2055 - val_loss: 16.0303\n",
      "Epoch 156/450\n",
      "97/97 [==============================] - 0s 2ms/step - loss: 15.5546 - val_loss: 9.5218\n",
      "Epoch 157/450\n",
      "97/97 [==============================] - 0s 2ms/step - loss: 12.6459 - val_loss: 9.4003\n",
      "Epoch 158/450\n",
      "97/97 [==============================] - 0s 2ms/step - loss: 10.6433 - val_loss: 16.1537\n",
      "Epoch 159/450\n",
      "97/97 [==============================] - 0s 2ms/step - loss: 21.7240 - val_loss: 22.1842\n",
      "Epoch 160/450\n",
      "97/97 [==============================] - 0s 3ms/step - loss: 24.1382 - val_loss: 31.7434\n",
      "Epoch 161/450\n",
      "97/97 [==============================] - 0s 3ms/step - loss: 85.1694 - val_loss: 200.8958\n",
      "Epoch 162/450\n",
      "97/97 [==============================] - 0s 3ms/step - loss: 76.7428 - val_loss: 52.6726\n",
      "Epoch 163/450\n",
      "97/97 [==============================] - 0s 3ms/step - loss: 57.0192 - val_loss: 8.7975\n",
      "Epoch 164/450\n",
      "97/97 [==============================] - 0s 2ms/step - loss: 43.6610 - val_loss: 254.7193\n",
      "Epoch 165/450\n",
      "97/97 [==============================] - 0s 2ms/step - loss: 382.2132 - val_loss: 829.9207\n",
      "Epoch 166/450\n",
      "97/97 [==============================] - 0s 2ms/step - loss: 3903.1389 - val_loss: 319.1318\n",
      "Epoch 167/450\n",
      "97/97 [==============================] - 0s 2ms/step - loss: 10093.0156 - val_loss: 5895.3208\n",
      "Epoch 168/450\n",
      "97/97 [==============================] - 0s 2ms/step - loss: 3415.4373 - val_loss: 771.3172\n",
      "Epoch 169/450\n",
      "97/97 [==============================] - 0s 2ms/step - loss: 860.5658 - val_loss: 3714.7073\n",
      "Epoch 170/450\n",
      "97/97 [==============================] - 0s 2ms/step - loss: 794.0177 - val_loss: 1519.6460\n",
      "Epoch 171/450\n",
      "97/97 [==============================] - 0s 2ms/step - loss: 1095.4847 - val_loss: 173.8692\n",
      "Epoch 172/450\n",
      "97/97 [==============================] - 0s 2ms/step - loss: 58.5906 - val_loss: 12.6890\n",
      "Epoch 173/450\n",
      "97/97 [==============================] - 0s 2ms/step - loss: 23.0632 - val_loss: 38.8219\n",
      "Epoch 174/450\n",
      "97/97 [==============================] - 0s 2ms/step - loss: 42.9858 - val_loss: 44.6184\n",
      "Epoch 175/450\n",
      "97/97 [==============================] - 0s 2ms/step - loss: 34.8750 - val_loss: 42.5138\n",
      "Epoch 176/450\n",
      "97/97 [==============================] - 0s 2ms/step - loss: 2348.0605 - val_loss: 12137.7744\n",
      "Epoch 177/450\n",
      "97/97 [==============================] - 0s 2ms/step - loss: 6475.5933 - val_loss: 7050.0005\n",
      "Epoch 178/450\n",
      "97/97 [==============================] - 0s 2ms/step - loss: 31141.9844 - val_loss: 7380.3833\n",
      "Epoch 179/450\n",
      "97/97 [==============================] - 0s 2ms/step - loss: 1106.8744 - val_loss: 41.8577\n",
      "Epoch 180/450\n",
      "97/97 [==============================] - 0s 2ms/step - loss: 39.5090 - val_loss: 153.5013\n",
      "Epoch 181/450\n",
      "97/97 [==============================] - 0s 2ms/step - loss: 45.1456 - val_loss: 11.5911\n",
      "Epoch 182/450\n",
      "97/97 [==============================] - 0s 2ms/step - loss: 16.6674 - val_loss: 47.0319\n",
      "Epoch 183/450\n",
      "97/97 [==============================] - 0s 2ms/step - loss: 10.1297 - val_loss: 7.3556\n",
      "Epoch 184/450\n",
      "97/97 [==============================] - 0s 2ms/step - loss: 5.2183 - val_loss: 5.7523\n",
      "Epoch 185/450\n",
      "97/97 [==============================] - 0s 2ms/step - loss: 38.4277 - val_loss: 12.9946\n",
      "Epoch 186/450\n",
      "97/97 [==============================] - 0s 2ms/step - loss: 10.4903 - val_loss: 4.3070\n",
      "Epoch 187/450\n",
      "97/97 [==============================] - 0s 2ms/step - loss: 3.1028 - val_loss: 2.4046\n",
      "Epoch 188/450\n",
      "97/97 [==============================] - 0s 2ms/step - loss: 7.9797 - val_loss: 34.1726\n",
      "Epoch 189/450\n",
      "97/97 [==============================] - 0s 2ms/step - loss: 22.0161 - val_loss: 12.6455\n",
      "Epoch 190/450\n",
      "97/97 [==============================] - 0s 2ms/step - loss: 9.4654 - val_loss: 28.3911\n",
      "Epoch 191/450\n",
      "97/97 [==============================] - 0s 2ms/step - loss: 32.7121 - val_loss: 114.8764\n",
      "Epoch 192/450\n",
      "97/97 [==============================] - 0s 2ms/step - loss: 6376.8447 - val_loss: 5802.7085\n",
      "Epoch 193/450\n",
      "97/97 [==============================] - 0s 2ms/step - loss: 1692.2524 - val_loss: 613.6025\n",
      "Epoch 194/450\n",
      "97/97 [==============================] - 0s 2ms/step - loss: 420.9376 - val_loss: 9.9682\n",
      "Epoch 195/450\n",
      "97/97 [==============================] - 0s 2ms/step - loss: 7.8909 - val_loss: 5.5693\n",
      "Epoch 196/450\n",
      "97/97 [==============================] - 0s 2ms/step - loss: 9.9290 - val_loss: 4.6221\n",
      "Epoch 197/450\n",
      "97/97 [==============================] - 0s 2ms/step - loss: 4.8594 - val_loss: 3.7792\n",
      "Epoch 198/450\n",
      "97/97 [==============================] - 0s 2ms/step - loss: 3.9347 - val_loss: 3.9306\n",
      "Epoch 199/450\n",
      "97/97 [==============================] - 0s 2ms/step - loss: 71.7751 - val_loss: 360.5986\n",
      "Epoch 200/450\n",
      "97/97 [==============================] - 0s 2ms/step - loss: 564.2534 - val_loss: 871.5801\n",
      "Epoch 201/450\n",
      "97/97 [==============================] - 0s 2ms/step - loss: 5342.8643 - val_loss: 2363.0444\n",
      "Epoch 202/450\n",
      "97/97 [==============================] - 0s 2ms/step - loss: 420.1785 - val_loss: 27.1985\n",
      "Epoch 203/450\n",
      "97/97 [==============================] - 0s 2ms/step - loss: 11.0497 - val_loss: 5.5691\n",
      "Epoch 204/450\n",
      "97/97 [==============================] - 0s 2ms/step - loss: 6.8698 - val_loss: 30.3040\n",
      "Epoch 205/450\n",
      "97/97 [==============================] - 0s 2ms/step - loss: 11.6576 - val_loss: 1.5029\n",
      "Epoch 206/450\n",
      "97/97 [==============================] - 0s 2ms/step - loss: 3.2284 - val_loss: 35.6621\n",
      "Epoch 207/450\n",
      "97/97 [==============================] - 0s 2ms/step - loss: 46.8881 - val_loss: 136.0109\n",
      "Epoch 208/450\n",
      "97/97 [==============================] - 0s 2ms/step - loss: 780.4641 - val_loss: 219.0376\n",
      "Epoch 209/450\n",
      "97/97 [==============================] - 0s 2ms/step - loss: 2169.4963 - val_loss: 3360.9197\n",
      "Epoch 210/450\n",
      "97/97 [==============================] - 0s 2ms/step - loss: 2590.0349 - val_loss: 3803.2043\n",
      "Epoch 211/450\n",
      "97/97 [==============================] - 0s 2ms/step - loss: 3164.8218 - val_loss: 996.3686\n",
      "Epoch 212/450\n",
      "97/97 [==============================] - 0s 2ms/step - loss: 15123.2168 - val_loss: 3600.3892\n",
      "Epoch 213/450\n",
      "97/97 [==============================] - 0s 2ms/step - loss: 4184.6060 - val_loss: 1337.1742\n",
      "Epoch 214/450\n",
      "97/97 [==============================] - 0s 2ms/step - loss: 978.7232 - val_loss: 249.1158\n",
      "Epoch 215/450\n",
      "97/97 [==============================] - 0s 2ms/step - loss: 38.5275 - val_loss: 4.4240\n",
      "Epoch 216/450\n",
      "97/97 [==============================] - 0s 2ms/step - loss: 2.5843 - val_loss: 1.9988\n",
      "Epoch 217/450\n",
      "97/97 [==============================] - 0s 2ms/step - loss: 1.6070 - val_loss: 1.2826\n",
      "Epoch 218/450\n",
      "97/97 [==============================] - 0s 2ms/step - loss: 1.4926 - val_loss: 1.3045\n",
      "Epoch 219/450\n",
      "97/97 [==============================] - 0s 2ms/step - loss: 1.2993 - val_loss: 1.3122\n",
      "Epoch 220/450\n",
      "97/97 [==============================] - 0s 2ms/step - loss: 1.3410 - val_loss: 1.0233\n",
      "Epoch 221/450\n",
      "97/97 [==============================] - 0s 2ms/step - loss: 0.9425 - val_loss: 0.8640\n",
      "Epoch 222/450\n",
      "97/97 [==============================] - 0s 2ms/step - loss: 0.7423 - val_loss: 0.6814\n",
      "Epoch 223/450\n",
      "97/97 [==============================] - 0s 2ms/step - loss: 4.0744 - val_loss: 5.3982\n",
      "Epoch 224/450\n",
      "97/97 [==============================] - 0s 2ms/step - loss: 5.5676 - val_loss: 0.8907\n",
      "Epoch 225/450\n",
      "97/97 [==============================] - 0s 2ms/step - loss: 2.8410 - val_loss: 2.5648\n",
      "Epoch 226/450\n",
      "97/97 [==============================] - 0s 2ms/step - loss: 3.0385 - val_loss: 14.3830\n",
      "Epoch 227/450\n",
      "97/97 [==============================] - 0s 2ms/step - loss: 5.4965 - val_loss: 6.6891\n",
      "Epoch 228/450\n",
      "97/97 [==============================] - 0s 2ms/step - loss: 4.5940 - val_loss: 16.4310\n",
      "Epoch 229/450\n",
      "97/97 [==============================] - 0s 2ms/step - loss: 52.1645 - val_loss: 0.9632\n",
      "Epoch 230/450\n",
      "97/97 [==============================] - 0s 2ms/step - loss: 3.0542 - val_loss: 19.7831\n",
      "Epoch 231/450\n",
      "97/97 [==============================] - 0s 2ms/step - loss: 9.9000 - val_loss: 5.7776\n",
      "Epoch 232/450\n",
      "97/97 [==============================] - 0s 2ms/step - loss: 101.3215 - val_loss: 1256.4854\n",
      "Epoch 233/450\n",
      "97/97 [==============================] - 0s 2ms/step - loss: 11563.5049 - val_loss: 1499.8619\n",
      "Epoch 234/450\n",
      "97/97 [==============================] - 0s 2ms/step - loss: 588.4067 - val_loss: 72.3678\n",
      "Epoch 235/450\n",
      "97/97 [==============================] - 0s 2ms/step - loss: 12.0530 - val_loss: 3.4182\n",
      "Epoch 236/450\n",
      "97/97 [==============================] - 0s 2ms/step - loss: 3.2931 - val_loss: 33.3791\n",
      "Epoch 237/450\n",
      "97/97 [==============================] - 0s 2ms/step - loss: 21.3939 - val_loss: 17.9695\n",
      "Epoch 238/450\n",
      "97/97 [==============================] - 0s 2ms/step - loss: 439.1845 - val_loss: 1181.2059\n",
      "Epoch 239/450\n",
      "97/97 [==============================] - 0s 2ms/step - loss: 4516.0688 - val_loss: 171.9244\n",
      "Epoch 240/450\n",
      "97/97 [==============================] - 0s 2ms/step - loss: 20204.8477 - val_loss: 1004.1992\n",
      "Epoch 241/450\n",
      "97/97 [==============================] - 0s 2ms/step - loss: 288.4360 - val_loss: 325.8318\n",
      "Epoch 242/450\n",
      "97/97 [==============================] - 0s 2ms/step - loss: 113.8480 - val_loss: 46.8290\n",
      "Epoch 243/450\n",
      "97/97 [==============================] - 0s 2ms/step - loss: 32.1913 - val_loss: 2.5219\n",
      "Epoch 244/450\n",
      "97/97 [==============================] - 0s 2ms/step - loss: 2.9996 - val_loss: 11.9565\n",
      "Epoch 245/450\n",
      "97/97 [==============================] - 0s 2ms/step - loss: 3.2221 - val_loss: 0.4681\n",
      "Epoch 246/450\n",
      "97/97 [==============================] - 0s 2ms/step - loss: 0.2322 - val_loss: 0.1496\n",
      "Epoch 247/450\n",
      "97/97 [==============================] - 0s 2ms/step - loss: 0.1798 - val_loss: 0.5073\n",
      "Epoch 248/450\n",
      "97/97 [==============================] - 0s 2ms/step - loss: 0.6575 - val_loss: 0.1014\n",
      "Epoch 249/450\n",
      "97/97 [==============================] - 0s 2ms/step - loss: 0.0979 - val_loss: 0.0829\n",
      "Epoch 250/450\n",
      "97/97 [==============================] - 0s 2ms/step - loss: 0.1370 - val_loss: 1.0290\n",
      "Epoch 251/450\n",
      "97/97 [==============================] - 0s 2ms/step - loss: 0.2214 - val_loss: 0.0602\n",
      "Epoch 252/450\n",
      "97/97 [==============================] - 0s 2ms/step - loss: 0.3290 - val_loss: 2.5504\n",
      "Epoch 253/450\n",
      "97/97 [==============================] - 0s 2ms/step - loss: 51.2849 - val_loss: 76.0403\n",
      "Epoch 254/450\n",
      "97/97 [==============================] - 0s 2ms/step - loss: 36.6807 - val_loss: 0.2706\n",
      "Epoch 255/450\n",
      "97/97 [==============================] - 0s 2ms/step - loss: 0.9698 - val_loss: 16.5043\n",
      "Epoch 256/450\n",
      "97/97 [==============================] - 0s 2ms/step - loss: 247.3931 - val_loss: 322.5696\n",
      "Epoch 257/450\n",
      "97/97 [==============================] - 0s 2ms/step - loss: 2841.7258 - val_loss: 15763.5547\n",
      "Epoch 258/450\n",
      "97/97 [==============================] - 0s 2ms/step - loss: 26361.4023 - val_loss: 7670.0991\n",
      "Epoch 259/450\n",
      "97/97 [==============================] - 0s 2ms/step - loss: 3718.0959 - val_loss: 1259.7881\n",
      "Epoch 260/450\n",
      "97/97 [==============================] - 0s 2ms/step - loss: 105.4715 - val_loss: 8.1144\n",
      "Epoch 261/450\n",
      "97/97 [==============================] - 0s 2ms/step - loss: 9.4583 - val_loss: 5.5291\n",
      "Epoch 262/450\n",
      "97/97 [==============================] - 0s 2ms/step - loss: 4.0413 - val_loss: 4.5578\n",
      "Epoch 263/450\n",
      "97/97 [==============================] - 0s 2ms/step - loss: 1.2278 - val_loss: 0.6284\n",
      "Epoch 264/450\n",
      "97/97 [==============================] - 0s 2ms/step - loss: 0.2954 - val_loss: 0.2750\n",
      "Epoch 265/450\n",
      "97/97 [==============================] - 0s 2ms/step - loss: 0.1393 - val_loss: 0.0833\n",
      "Epoch 266/450\n",
      "97/97 [==============================] - 0s 2ms/step - loss: 0.0746 - val_loss: 0.1281\n",
      "Epoch 267/450\n",
      "97/97 [==============================] - 0s 2ms/step - loss: 0.7162 - val_loss: 0.2151\n",
      "Epoch 268/450\n",
      "97/97 [==============================] - 0s 2ms/step - loss: 0.4127 - val_loss: 0.0329\n",
      "Epoch 269/450\n",
      "97/97 [==============================] - 0s 2ms/step - loss: 0.0715 - val_loss: 0.0477\n",
      "Epoch 270/450\n",
      "97/97 [==============================] - 0s 2ms/step - loss: 1.9289 - val_loss: 3.0219\n",
      "Epoch 271/450\n",
      "97/97 [==============================] - 0s 2ms/step - loss: 11.3291 - val_loss: 16.3152\n",
      "Epoch 272/450\n",
      "97/97 [==============================] - 0s 2ms/step - loss: 161.0256 - val_loss: 59.5751\n",
      "Epoch 273/450\n",
      "97/97 [==============================] - 0s 2ms/step - loss: 97.7837 - val_loss: 39.1908\n",
      "Epoch 274/450\n",
      "97/97 [==============================] - 0s 2ms/step - loss: 726.5208 - val_loss: 596.3237\n",
      "Epoch 275/450\n",
      "97/97 [==============================] - 0s 2ms/step - loss: 6576.0679 - val_loss: 1768.8307\n",
      "Epoch 276/450\n",
      "97/97 [==============================] - 0s 2ms/step - loss: 521.3774 - val_loss: 37.3730\n",
      "Epoch 277/450\n",
      "97/97 [==============================] - 0s 2ms/step - loss: 560.9341 - val_loss: 10.3394\n",
      "Epoch 278/450\n",
      "97/97 [==============================] - 0s 2ms/step - loss: 2936.7998 - val_loss: 46460.4648\n",
      "Epoch 279/450\n",
      "97/97 [==============================] - 0s 2ms/step - loss: 3773.7339 - val_loss: 3203.8989\n",
      "Epoch 280/450\n",
      "97/97 [==============================] - 0s 2ms/step - loss: 985.6934 - val_loss: 66.7471\n",
      "Epoch 281/450\n",
      "97/97 [==============================] - 0s 2ms/step - loss: 1373.4163 - val_loss: 816.8931\n",
      "Epoch 282/450\n",
      "97/97 [==============================] - 0s 2ms/step - loss: 149.5326 - val_loss: 0.5692\n",
      "Epoch 283/450\n",
      "97/97 [==============================] - 0s 2ms/step - loss: 0.6216 - val_loss: 0.1776\n",
      "Epoch 284/450\n",
      "97/97 [==============================] - 0s 2ms/step - loss: 0.1467 - val_loss: 0.3555\n",
      "Epoch 285/450\n",
      "97/97 [==============================] - 0s 2ms/step - loss: 0.1809 - val_loss: 0.1956\n",
      "Epoch 286/450\n",
      "97/97 [==============================] - 0s 2ms/step - loss: 0.4373 - val_loss: 0.1505\n",
      "Epoch 287/450\n",
      "97/97 [==============================] - 0s 2ms/step - loss: 0.1257 - val_loss: 0.2166\n",
      "Epoch 288/450\n",
      "97/97 [==============================] - 0s 2ms/step - loss: 0.0648 - val_loss: 0.0318\n",
      "Epoch 289/450\n",
      "97/97 [==============================] - 0s 2ms/step - loss: 0.2238 - val_loss: 0.2172\n",
      "Epoch 290/450\n",
      "97/97 [==============================] - 0s 2ms/step - loss: 0.0927 - val_loss: 0.0736\n",
      "Epoch 291/450\n",
      "97/97 [==============================] - 0s 2ms/step - loss: 8.4394 - val_loss: 57.2344\n",
      "Epoch 292/450\n",
      "97/97 [==============================] - 0s 2ms/step - loss: 746.3074 - val_loss: 1576.5234\n",
      "Epoch 293/450\n",
      "97/97 [==============================] - 0s 2ms/step - loss: 3578.8342 - val_loss: 387.3988\n",
      "Epoch 294/450\n",
      "97/97 [==============================] - 0s 2ms/step - loss: 116.0271 - val_loss: 53.7895\n",
      "Epoch 295/450\n",
      "97/97 [==============================] - 0s 2ms/step - loss: 91.7480 - val_loss: 925.2177\n",
      "Epoch 296/450\n",
      "97/97 [==============================] - 0s 2ms/step - loss: 7866.0557 - val_loss: 3655.4375\n",
      "Epoch 297/450\n",
      "97/97 [==============================] - 0s 2ms/step - loss: 432.1788 - val_loss: 100.5006\n",
      "Epoch 298/450\n",
      "97/97 [==============================] - 0s 2ms/step - loss: 46.7846 - val_loss: 17.7375\n",
      "Epoch 299/450\n",
      "97/97 [==============================] - 0s 2ms/step - loss: 29.1385 - val_loss: 0.3425\n",
      "Epoch 300/450\n",
      "97/97 [==============================] - 0s 2ms/step - loss: 0.1544 - val_loss: 0.1818\n",
      "Epoch 301/450\n",
      "97/97 [==============================] - 0s 2ms/step - loss: 0.1198 - val_loss: 0.0982\n",
      "Epoch 302/450\n",
      "97/97 [==============================] - 0s 2ms/step - loss: 0.7876 - val_loss: 2.7198\n",
      "Epoch 303/450\n",
      "97/97 [==============================] - 0s 2ms/step - loss: 3.3975 - val_loss: 1.0138\n",
      "Epoch 304/450\n",
      "97/97 [==============================] - 0s 2ms/step - loss: 63.1797 - val_loss: 42.6050\n",
      "Epoch 305/450\n",
      "97/97 [==============================] - 0s 2ms/step - loss: 27.0670 - val_loss: 23.9733\n",
      "Epoch 306/450\n",
      "97/97 [==============================] - 0s 2ms/step - loss: 25.4415 - val_loss: 44.1724\n",
      "Epoch 307/450\n",
      "97/97 [==============================] - 0s 2ms/step - loss: 2428.5117 - val_loss: 1187.4731\n",
      "Epoch 308/450\n",
      "97/97 [==============================] - 0s 2ms/step - loss: 3150.3533 - val_loss: 118.2910\n",
      "Epoch 309/450\n",
      "97/97 [==============================] - 0s 2ms/step - loss: 163.6585 - val_loss: 9.0598\n",
      "Epoch 310/450\n",
      "97/97 [==============================] - 0s 2ms/step - loss: 222.1326 - val_loss: 38.3387\n",
      "Epoch 311/450\n",
      "97/97 [==============================] - 0s 2ms/step - loss: 519.5450 - val_loss: 1273.7709\n",
      "Epoch 312/450\n",
      "97/97 [==============================] - 0s 2ms/step - loss: 10410.2910 - val_loss: 1050.1793\n",
      "Epoch 313/450\n",
      "97/97 [==============================] - 0s 2ms/step - loss: 636.3293 - val_loss: 83.2624\n",
      "Epoch 314/450\n",
      "97/97 [==============================] - 0s 2ms/step - loss: 94.3650 - val_loss: 14.3333\n",
      "Epoch 315/450\n",
      "97/97 [==============================] - 0s 2ms/step - loss: 2.4551 - val_loss: 0.0532\n",
      "Epoch 316/450\n",
      "97/97 [==============================] - 0s 2ms/step - loss: 0.0681 - val_loss: 0.0184\n",
      "Epoch 317/450\n",
      "97/97 [==============================] - 0s 2ms/step - loss: 0.0264 - val_loss: 0.0680\n",
      "Epoch 318/450\n",
      "97/97 [==============================] - 0s 2ms/step - loss: 0.0713 - val_loss: 0.0227\n",
      "Epoch 319/450\n",
      "97/97 [==============================] - 0s 2ms/step - loss: 0.0239 - val_loss: 0.0529\n",
      "Epoch 320/450\n",
      "97/97 [==============================] - 0s 2ms/step - loss: 0.1033 - val_loss: 0.0401\n",
      "Epoch 321/450\n",
      "97/97 [==============================] - 0s 2ms/step - loss: 1.3931 - val_loss: 4.7002\n",
      "Epoch 322/450\n",
      "97/97 [==============================] - 0s 2ms/step - loss: 266.8489 - val_loss: 898.8115\n",
      "Epoch 323/450\n",
      "97/97 [==============================] - 0s 2ms/step - loss: 26492.3477 - val_loss: 911.6442\n",
      "Epoch 324/450\n",
      "97/97 [==============================] - 0s 2ms/step - loss: 351.3521 - val_loss: 8.8783\n",
      "Epoch 325/450\n",
      "97/97 [==============================] - 0s 2ms/step - loss: 4.2396 - val_loss: 2.4858\n",
      "Epoch 326/450\n",
      "97/97 [==============================] - 0s 2ms/step - loss: 2.3632 - val_loss: 2.0467\n",
      "Epoch 327/450\n",
      "97/97 [==============================] - 0s 2ms/step - loss: 1.8444 - val_loss: 2.5140\n",
      "Epoch 328/450\n",
      "97/97 [==============================] - 0s 2ms/step - loss: 2.0434 - val_loss: 1.4275\n",
      "Epoch 329/450\n",
      "97/97 [==============================] - 0s 2ms/step - loss: 1.5852 - val_loss: 2.4619\n",
      "Epoch 330/450\n",
      "97/97 [==============================] - 0s 2ms/step - loss: 1.3386 - val_loss: 0.7213\n",
      "Epoch 331/450\n",
      "97/97 [==============================] - 0s 2ms/step - loss: 0.7356 - val_loss: 0.6405\n",
      "Epoch 332/450\n",
      "97/97 [==============================] - 0s 2ms/step - loss: 0.7516 - val_loss: 1.0841\n",
      "Epoch 333/450\n",
      "97/97 [==============================] - 0s 2ms/step - loss: 2.3765 - val_loss: 12.1196\n",
      "Epoch 334/450\n",
      "97/97 [==============================] - 0s 2ms/step - loss: 10.5498 - val_loss: 18.4798\n",
      "Epoch 335/450\n",
      "97/97 [==============================] - 0s 2ms/step - loss: 4.8335 - val_loss: 1.4432\n",
      "Epoch 336/450\n",
      "97/97 [==============================] - 0s 2ms/step - loss: 0.9590 - val_loss: 0.3590\n",
      "Epoch 337/450\n",
      "97/97 [==============================] - 0s 2ms/step - loss: 0.2920 - val_loss: 0.5793\n",
      "Epoch 338/450\n",
      "97/97 [==============================] - 0s 2ms/step - loss: 233.7945 - val_loss: 2820.3193\n",
      "Epoch 339/450\n",
      "97/97 [==============================] - 0s 2ms/step - loss: 3077.1965 - val_loss: 22522.6797\n",
      "Epoch 340/450\n",
      "97/97 [==============================] - 0s 2ms/step - loss: 29511.7461 - val_loss: 373.2209\n",
      "Epoch 341/450\n",
      "97/97 [==============================] - 0s 2ms/step - loss: 47.2382 - val_loss: 2.1930\n",
      "Epoch 342/450\n",
      "97/97 [==============================] - 0s 2ms/step - loss: 1.3968 - val_loss: 0.5605\n",
      "Epoch 343/450\n",
      "97/97 [==============================] - 0s 2ms/step - loss: 0.4519 - val_loss: 0.3420\n",
      "Epoch 344/450\n",
      "97/97 [==============================] - 0s 2ms/step - loss: 0.3096 - val_loss: 0.5633\n",
      "Epoch 345/450\n",
      "97/97 [==============================] - 0s 2ms/step - loss: 0.2327 - val_loss: 0.1131\n",
      "Epoch 346/450\n",
      "97/97 [==============================] - 0s 2ms/step - loss: 0.1483 - val_loss: 0.0792\n",
      "Epoch 347/450\n",
      "97/97 [==============================] - 0s 2ms/step - loss: 0.0986 - val_loss: 0.0734\n",
      "Epoch 348/450\n",
      "97/97 [==============================] - 0s 2ms/step - loss: 0.0784 - val_loss: 0.0817\n",
      "Epoch 349/450\n",
      "97/97 [==============================] - 0s 2ms/step - loss: 0.0742 - val_loss: 0.0577\n",
      "Epoch 350/450\n",
      "97/97 [==============================] - 0s 2ms/step - loss: 0.0610 - val_loss: 0.0627\n",
      "Epoch 351/450\n",
      "97/97 [==============================] - 0s 2ms/step - loss: 0.0614 - val_loss: 0.0600\n",
      "Epoch 352/450\n",
      "97/97 [==============================] - 0s 2ms/step - loss: 0.0576 - val_loss: 0.0557\n",
      "Epoch 353/450\n",
      "97/97 [==============================] - 0s 2ms/step - loss: 0.1217 - val_loss: 0.0933\n",
      "Epoch 354/450\n",
      "97/97 [==============================] - 0s 2ms/step - loss: 0.0825 - val_loss: 0.0586\n",
      "Epoch 355/450\n",
      "97/97 [==============================] - 0s 2ms/step - loss: 0.0498 - val_loss: 0.1138\n",
      "Epoch 356/450\n",
      "97/97 [==============================] - 0s 2ms/step - loss: 0.0692 - val_loss: 0.1184\n",
      "Epoch 357/450\n",
      "97/97 [==============================] - 0s 2ms/step - loss: 0.0583 - val_loss: 0.0497\n",
      "Epoch 358/450\n",
      "97/97 [==============================] - 0s 2ms/step - loss: 1.5278 - val_loss: 0.0511\n",
      "Epoch 359/450\n",
      "97/97 [==============================] - 0s 2ms/step - loss: 0.4366 - val_loss: 1.3748\n",
      "Epoch 360/450\n",
      "97/97 [==============================] - 0s 2ms/step - loss: 515.1744 - val_loss: 423.0888\n",
      "Epoch 361/450\n",
      "97/97 [==============================] - 0s 2ms/step - loss: 14652.8174 - val_loss: 11934.8252\n",
      "Epoch 362/450\n",
      "97/97 [==============================] - 0s 2ms/step - loss: 1544.0679 - val_loss: 83.9410\n",
      "Epoch 363/450\n",
      "97/97 [==============================] - 0s 2ms/step - loss: 17.1870 - val_loss: 2.7467\n",
      "Epoch 364/450\n",
      "97/97 [==============================] - 0s 3ms/step - loss: 2.0756 - val_loss: 0.6283\n",
      "Epoch 365/450\n",
      "97/97 [==============================] - 0s 3ms/step - loss: 0.2748 - val_loss: 0.1362\n",
      "Epoch 366/450\n",
      "97/97 [==============================] - 0s 3ms/step - loss: 0.5750 - val_loss: 3.3389\n",
      "Epoch 367/450\n",
      "97/97 [==============================] - 0s 3ms/step - loss: 12.6634 - val_loss: 55.6539\n",
      "Epoch 368/450\n",
      "97/97 [==============================] - 0s 3ms/step - loss: 10.0195 - val_loss: 0.1561\n",
      "Epoch 369/450\n",
      "97/97 [==============================] - 0s 3ms/step - loss: 0.1911 - val_loss: 0.0965\n",
      "Epoch 370/450\n",
      "97/97 [==============================] - 0s 3ms/step - loss: 31.5140 - val_loss: 237.7065\n",
      "Epoch 371/450\n",
      "97/97 [==============================] - 0s 3ms/step - loss: 93.6602 - val_loss: 168.8033\n",
      "Epoch 372/450\n",
      "97/97 [==============================] - 0s 3ms/step - loss: 139.7532 - val_loss: 67.9251\n",
      "Epoch 373/450\n",
      "97/97 [==============================] - 0s 3ms/step - loss: 55.1146 - val_loss: 12.9251\n",
      "Epoch 374/450\n",
      "97/97 [==============================] - 0s 3ms/step - loss: 15.6013 - val_loss: 5.2119\n",
      "Epoch 375/450\n",
      "97/97 [==============================] - 0s 3ms/step - loss: 5526.6099 - val_loss: 24624.8496\n",
      "Epoch 376/450\n",
      "97/97 [==============================] - 0s 3ms/step - loss: 14038.6455 - val_loss: 1914.9473\n",
      "Epoch 377/450\n",
      "97/97 [==============================] - 0s 3ms/step - loss: 449.6422 - val_loss: 106.3395\n",
      "Epoch 378/450\n",
      "97/97 [==============================] - 0s 3ms/step - loss: 7.9005 - val_loss: 0.6201\n",
      "Epoch 379/450\n",
      "97/97 [==============================] - 0s 3ms/step - loss: 0.3324 - val_loss: 0.2570\n",
      "Epoch 380/450\n",
      "97/97 [==============================] - 0s 2ms/step - loss: 0.2524 - val_loss: 0.4204\n",
      "Epoch 381/450\n",
      "97/97 [==============================] - 0s 3ms/step - loss: 0.3086 - val_loss: 0.1290\n",
      "Epoch 382/450\n",
      "97/97 [==============================] - 0s 3ms/step - loss: 0.1673 - val_loss: 0.0893\n",
      "Epoch 383/450\n",
      "97/97 [==============================] - 0s 3ms/step - loss: 0.1054 - val_loss: 0.0738\n",
      "Epoch 384/450\n",
      "97/97 [==============================] - 0s 3ms/step - loss: 0.0958 - val_loss: 0.0586\n",
      "Epoch 385/450\n",
      "97/97 [==============================] - 0s 3ms/step - loss: 0.0630 - val_loss: 0.0633\n",
      "Epoch 386/450\n",
      "97/97 [==============================] - 0s 3ms/step - loss: 0.0631 - val_loss: 0.0283\n",
      "Epoch 387/450\n",
      "97/97 [==============================] - 0s 3ms/step - loss: 0.1044 - val_loss: 0.2006\n",
      "Epoch 388/450\n",
      "97/97 [==============================] - 0s 3ms/step - loss: 30.4513 - val_loss: 1100.4532\n",
      "Epoch 389/450\n",
      "97/97 [==============================] - 0s 3ms/step - loss: 1328.5664 - val_loss: 5199.0166\n",
      "Epoch 390/450\n",
      "97/97 [==============================] - 0s 3ms/step - loss: 863.6292 - val_loss: 124.2562\n",
      "Epoch 391/450\n",
      "97/97 [==============================] - 0s 3ms/step - loss: 12.1720 - val_loss: 1.3954\n",
      "Epoch 392/450\n",
      "97/97 [==============================] - 0s 2ms/step - loss: 7.2118 - val_loss: 5.4206\n",
      "Epoch 393/450\n",
      "97/97 [==============================] - 0s 2ms/step - loss: 187.9300 - val_loss: 136.2478\n",
      "Epoch 394/450\n",
      "97/97 [==============================] - 0s 3ms/step - loss: 107.9355 - val_loss: 10.5892\n",
      "Epoch 395/450\n",
      "97/97 [==============================] - 0s 2ms/step - loss: 8034.7266 - val_loss: 50414.3438\n",
      "Epoch 396/450\n",
      "97/97 [==============================] - 0s 2ms/step - loss: 19512.3301 - val_loss: 250.6291\n",
      "Epoch 397/450\n",
      "97/97 [==============================] - 0s 2ms/step - loss: 85.8030 - val_loss: 7.4006\n",
      "Epoch 398/450\n",
      "97/97 [==============================] - 0s 2ms/step - loss: 6.5981 - val_loss: 4.8832\n",
      "Epoch 399/450\n",
      "97/97 [==============================] - 0s 2ms/step - loss: 4.5585 - val_loss: 4.4658\n",
      "Epoch 400/450\n",
      "97/97 [==============================] - 0s 2ms/step - loss: 4.2194 - val_loss: 3.3573\n",
      "Epoch 401/450\n",
      "97/97 [==============================] - 0s 2ms/step - loss: 3.4572 - val_loss: 2.9393\n",
      "Epoch 402/450\n",
      "97/97 [==============================] - 0s 2ms/step - loss: 2.3558 - val_loss: 1.8166\n",
      "Epoch 403/450\n",
      "97/97 [==============================] - 0s 2ms/step - loss: 2.3876 - val_loss: 1.4416\n",
      "Epoch 404/450\n",
      "97/97 [==============================] - 0s 2ms/step - loss: 1.5843 - val_loss: 5.5312\n",
      "Epoch 405/450\n",
      "97/97 [==============================] - 0s 3ms/step - loss: 1.6688 - val_loss: 1.5121\n",
      "Epoch 406/450\n",
      "97/97 [==============================] - 0s 3ms/step - loss: 3.2520 - val_loss: 3.4716\n",
      "Epoch 407/450\n",
      "97/97 [==============================] - 0s 3ms/step - loss: 1.6175 - val_loss: 1.1253\n",
      "Epoch 408/450\n",
      "97/97 [==============================] - 0s 3ms/step - loss: 4.9066 - val_loss: 14.6865\n",
      "Epoch 409/450\n",
      "97/97 [==============================] - 0s 2ms/step - loss: 48.8188 - val_loss: 0.7808\n",
      "Epoch 410/450\n",
      "97/97 [==============================] - 0s 2ms/step - loss: 1.0591 - val_loss: 0.6584\n",
      "Epoch 411/450\n",
      "97/97 [==============================] - 0s 3ms/step - loss: 7.2090 - val_loss: 23.6279\n",
      "Epoch 412/450\n",
      "97/97 [==============================] - 0s 3ms/step - loss: 2665.2444 - val_loss: 4159.9292\n",
      "Epoch 413/450\n",
      "97/97 [==============================] - 0s 3ms/step - loss: 1827.1353 - val_loss: 241.3939\n",
      "Epoch 414/450\n",
      "97/97 [==============================] - 0s 3ms/step - loss: 118.4120 - val_loss: 2.5408\n",
      "Epoch 415/450\n",
      "97/97 [==============================] - 0s 3ms/step - loss: 1.3831 - val_loss: 1.2300\n",
      "Epoch 416/450\n",
      "97/97 [==============================] - 0s 2ms/step - loss: 2.3227 - val_loss: 2.7073\n",
      "Epoch 417/450\n",
      "97/97 [==============================] - 0s 3ms/step - loss: 1.2832 - val_loss: 1.3635\n",
      "Epoch 418/450\n",
      "97/97 [==============================] - 0s 2ms/step - loss: 11.9970 - val_loss: 3.3839\n",
      "Epoch 419/450\n",
      "97/97 [==============================] - 0s 3ms/step - loss: 748.1532 - val_loss: 342.1949\n",
      "Epoch 420/450\n",
      "97/97 [==============================] - 0s 2ms/step - loss: 26439.5098 - val_loss: 87977.0156\n",
      "Epoch 421/450\n",
      "97/97 [==============================] - 0s 2ms/step - loss: 19319.7207 - val_loss: 3610.7451\n",
      "Epoch 422/450\n",
      "97/97 [==============================] - 0s 3ms/step - loss: 477.2813 - val_loss: 17.2651\n",
      "Epoch 423/450\n",
      "97/97 [==============================] - 0s 2ms/step - loss: 27.0763 - val_loss: 3.4378\n",
      "Epoch 424/450\n",
      "97/97 [==============================] - 0s 3ms/step - loss: 2.2776 - val_loss: 1.9592\n",
      "Epoch 425/450\n",
      "97/97 [==============================] - 0s 3ms/step - loss: 1.8423 - val_loss: 1.4424\n",
      "Epoch 426/450\n",
      "97/97 [==============================] - 0s 2ms/step - loss: 1.4263 - val_loss: 1.1708\n",
      "Epoch 427/450\n",
      "97/97 [==============================] - 0s 3ms/step - loss: 1.2057 - val_loss: 1.1341\n",
      "Epoch 428/450\n",
      "97/97 [==============================] - 0s 3ms/step - loss: 1.1020 - val_loss: 1.1336\n",
      "Epoch 429/450\n",
      "97/97 [==============================] - 0s 3ms/step - loss: 1.0016 - val_loss: 1.0124\n",
      "Epoch 430/450\n",
      "97/97 [==============================] - 0s 3ms/step - loss: 1.2997 - val_loss: 1.5531\n",
      "Epoch 431/450\n",
      "97/97 [==============================] - 0s 3ms/step - loss: 2.8968 - val_loss: 2.1559\n",
      "Epoch 432/450\n",
      "97/97 [==============================] - 0s 3ms/step - loss: 1.1126 - val_loss: 1.0750\n",
      "Epoch 433/450\n",
      "97/97 [==============================] - 0s 3ms/step - loss: 6.2337 - val_loss: 9.5579\n",
      "Epoch 434/450\n",
      "97/97 [==============================] - 0s 3ms/step - loss: 29.8554 - val_loss: 6.8035\n",
      "Epoch 435/450\n",
      "97/97 [==============================] - 0s 3ms/step - loss: 8.9749 - val_loss: 10.2924\n",
      "Epoch 436/450\n",
      "97/97 [==============================] - 0s 3ms/step - loss: 7.1253 - val_loss: 15.5891\n",
      "Epoch 437/450\n",
      "97/97 [==============================] - 0s 3ms/step - loss: 25.2239 - val_loss: 27.2174\n",
      "Epoch 438/450\n",
      "97/97 [==============================] - 0s 3ms/step - loss: 37.1011 - val_loss: 12.1856\n",
      "Epoch 439/450\n",
      "97/97 [==============================] - 0s 3ms/step - loss: 11.9572 - val_loss: 1.7144\n",
      "Epoch 440/450\n",
      "97/97 [==============================] - 0s 2ms/step - loss: 12.1804 - val_loss: 20.2317\n",
      "Epoch 441/450\n",
      "97/97 [==============================] - 0s 2ms/step - loss: 25.1119 - val_loss: 7.1683\n",
      "Epoch 442/450\n",
      "97/97 [==============================] - 0s 3ms/step - loss: 9619.4736 - val_loss: 13492.6533\n",
      "Epoch 443/450\n",
      "97/97 [==============================] - 0s 2ms/step - loss: 6398.2676 - val_loss: 752.4388\n",
      "Epoch 444/450\n",
      "97/97 [==============================] - 0s 2ms/step - loss: 621.2913 - val_loss: 3.6992\n",
      "Epoch 445/450\n",
      "97/97 [==============================] - 0s 3ms/step - loss: 6.1408 - val_loss: 0.2498\n",
      "Epoch 446/450\n",
      "97/97 [==============================] - 0s 3ms/step - loss: 0.3162 - val_loss: 0.2796\n",
      "Epoch 447/450\n",
      "97/97 [==============================] - 0s 2ms/step - loss: 0.1220 - val_loss: 0.3452\n",
      "Epoch 448/450\n",
      "97/97 [==============================] - 0s 3ms/step - loss: 0.6379 - val_loss: 0.3810\n",
      "Epoch 449/450\n",
      "97/97 [==============================] - 0s 3ms/step - loss: 0.3754 - val_loss: 0.1327\n",
      "Epoch 450/450\n",
      "97/97 [==============================] - 0s 3ms/step - loss: 7.2048 - val_loss: 6.3860\n"
     ]
    },
    {
     "data": {
      "text/plain": [
       "<keras.callbacks.History at 0x7fd4e8ff58b0>"
      ]
     },
     "execution_count": 74,
     "metadata": {},
     "output_type": "execute_result"
    }
   ],
   "source": [
    "model.fit(x=X_train,y=y_train,validation_data=(X_test,y_test),verbose=1,epochs=450)"
   ]
  },
  {
   "cell_type": "code",
   "execution_count": 77,
   "metadata": {},
   "outputs": [],
   "source": [
    "kayip=pd.DataFrame(model.history.history)"
   ]
  },
  {
   "cell_type": "code",
   "execution_count": 78,
   "metadata": {},
   "outputs": [
    {
     "data": {
      "text/plain": [
       "<AxesSubplot:>"
      ]
     },
     "execution_count": 78,
     "metadata": {},
     "output_type": "execute_result"
    },
    {
     "data": {
      "image/png": "[encoded data removed]",
      "text/plain": [
       "<Figure size 842.4x595.44 with 1 Axes>"
      ]
     },
     "metadata": {},
     "output_type": "display_data"
    }
   ],
   "source": [
    "kayip.plot()"
   ]
  },
  {
   "cell_type": "code",
   "execution_count": 79,
   "metadata": {},
   "outputs": [],
   "source": [
    "pre=model.predict(X_test)"
   ]
  },
  {
   "cell_type": "code",
   "execution_count": 80,
   "metadata": {},
   "outputs": [
    {
     "data": {
      "text/plain": [
       "0.9999979903588673"
      ]
     },
     "execution_count": 80,
     "metadata": {},
     "output_type": "execute_result"
    }
   ],
   "source": [
    "r2_score(y_test,pre)"
   ]
  },
  {
   "cell_type": "code",
   "execution_count": null,
   "metadata": {},
   "outputs": [],
   "source": []
  }
 ],
 "metadata": {
  "kernelspec": {
   "display_name": "Python 3",
   "language": "python",
   "name": "python3"
  },
  "language_info": {
   "codemirror_mode": {
    "name": "ipython",
    "version": 3
   },
   "file_extension": ".py",
   "mimetype": "text/x-python",
   "name": "python",
   "nbconvert_exporter": "python",
   "pygments_lexer": "ipython3",
   "version": "3.8.5"
  }
 },
 "nbformat": 4,
 "nbformat_minor": 4
}
