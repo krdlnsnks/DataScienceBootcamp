{
 "cells": [
  {
   "cell_type": "code",
   "execution_count": 1,
   "metadata": {},
   "outputs": [],
   "source": [
    "from urllib.request import urlopen\n",
    "from bs4 import BeautifulSoup"
   ]
  },
  {
   "cell_type": "code",
   "execution_count": 2,
   "metadata": {},
   "outputs": [
    {
     "name": "stdout",
     "output_type": "stream",
     "text": [
      "{'body', '[document]', 'time', 'li', 'div', 'h1', 'p', 'script', 'a', 'strong', 'h4', 'span', 'title', 'h2', 'head', 'h3', 'style'}\n"
     ]
    }
   ],
   "source": [
    "source = urlopen(\"https://www.hurriyet.com.tr/teknoloji/tuketicinin-dijital-aliskanliklari-geri-donulmez-esikte-42038010\").read()\n",
    "soup = BeautifulSoup(source, \"lxml\")\n",
    "print(set([text.parent.name for text in soup.find_all(text=True)]))"
   ]
  },
  {
   "cell_type": "code",
   "execution_count": 3,
   "metadata": {},
   "outputs": [
    {
     "name": "stdout",
     "output_type": "stream",
     "text": [
      "Deloitte’un Dijital Tüketici Trendleri 2021 Araştırması’nın sonuçları kullanıcıların hayatla bağını elektronik cihazlar üzerinden kurduğunu gösteriyor. Araştırmaya göre akıllı saat ve fitness bilekliği altın çağını yaşıyor, hızlı internet ve 5G’ye talep artıyor. Türkler akıllı TV, robot süpürge ve akıllı ev aletleri sahipliğinde global ortalamanın hayli üstünde. Akıllı cihazları en fazla kullananlar 25-34 yaş aralığında.\n"
     ]
    }
   ],
   "source": [
    "text = \"\"\n",
    "\n",
    "for paragraph in soup.find_all(\"h2\"):\n",
    "    text += paragraph.text\n",
    "    \n",
    "print(text)"
   ]
  },
  {
   "cell_type": "code",
   "execution_count": 4,
   "metadata": {},
   "outputs": [
    {
     "name": "stdout",
     "output_type": "stream",
     "text": [
      "Şirketin dijital tüketici tercihlerini farklı yönlerden analiz ederek tüketici trendlerine ilişkin iç görüler ve bu alandaki hizmet sağlayıcılarına önemli veriler sunan ‘Dijital Tüketici Trendleri’ Araştırması yayımlandı. Araştırma aralarında Türkiye’nin de bulunduğu 14 ülkeden katılımcının verdiği cevapların analizine dayanıyor. Şirketin Türkiye Danışmanlık Hizmetleri Lideri Hakan Göl, pandemi sürecinin tüm dünyada olduğu gibi Türkiye’de de dijital dönüşümü hızlandırdığını, tüketicilerin dijital alışkanlıklarının hızlı biçimde değiştiğini söyledi. Göl, “Markaların dijital dünyada yeni iş fikirleri geliştirebilmelerine, iş modellerini adapte edebilmelerine yardımcı olmak ve rekabet stratejilerine ışık tutabilmek amacıyla dijital tüketici trendlerini araştırdık. Dijital pazarlama uzmanları, e-ticaret profesyonelleri, sosyal medya yöneticileri, uygulama geliştiriciler akıllı cihazların çevrim içi hayatları nasıl şekillendirdiğine bakarak gündemlerini belirleyebilir. Özellikle abonelikler dünyasının pandemi sonrası yeniden şekilleneceğini görebiliyoruz” dedi. Araştırmadan öne çıkan satırbaşları şöyle: Türkiye’den araştırmaya katılanların yarıdan fazlası akıllı telefon, dizüstü bilgisayar, kablosuz kulaklık ve tablet gibi cihazlara sahip. Araştırmaya göre bahsi geçen cihazlar arasında sahiplik oranı en yüksek olan yüzde 91’le akıllı telefon. Akıllı telefonları yüzde 77 sahiplik oranıyla dizüstü bilgisayarlar takip ediyor. Kulaklık ve tablet sahipliğinde kadınlar erkekleri geride bırakırken, masaüstü bilgisayar sahiplik oranında ise erkekler önde yer aldı. Kullanıcılar e-ticaret, video ve TV izleme, bankacılık ve oyun gibi farklı alanlarda elektronik cihazları kullanmayı tercih ediyor. Akıllı saat ve fitness bileklikleri yükselişte 2019’da yapılan bir önceki araştırmaya kıyasla kullanımı artış gösteren cihazlar arasında ilk sırada dijital sağlık uygulamalarını destekleyen akıllı saatler ve egzersiz takiplerinin yapılabildiği fitness bileklikleri öne çıkıyor. Akıllı saatlerin sahiplik oranı 12 puan artışla yüzde 34’e çıkarken, fitness bilekliklerinin sahiplik oranı 8 puan artışla yüzde 20 seviyesine ulaştı. Her iki kategori de 25-34 yaş grubunda daha yaygın kullanılıyor. Akıllı saat, fitness bilekliği ve akıllı telefon üzerinden en fazla takip edilen metrikler sırasıyla adım sayısı (yüzde 70), nabız (yüzde 52), kilo (yüzde 39), uyku düzeni (yüzde 37) ve kalori alımı (yüzde 31) oldu. Cep telefonu değiştirme sıklığı azaldı Araştırma sonuçlarına göre küresel ve yerel ölçekte bakıldığında katılımcıların akıllı telefon sahipliği ve kullanım sıklığı oranlarının yüksek olmasının yanında, sahip oldukları akıllı telefonların da yeni olduğu dikkat çekiyor. Her 4 kullanıcıdan 3’ünün telefonu 3 yaşından küçük. Türkiye’de telefon değiştirme sıklığı geçmiş yıllara göre azaldı. Son iki yılda telefon değiştirenlerin oranı 2019’a kıyasla 9 puan azalarak yüzde 49’a geriledi. Globalde ise ortalama 1 puan düşerek yüzde 51 oldu. Türkiye’deki 9 puanlık gerilemeye döviz kurlarındaki yükseliş ve IMEI kayıt ücretlerindeki artışın neden olduğu değerlendiriliyor. Türkiye’de akıllı telefon satın alım kararını etkileyen faktörler arasında ilk sırada şarj ömrü (yüzde 49) geliyor. Şarj ömrünü işlemci hızı (yüzde 37) ve depolama kapasitesi (yüzde 36) takip ediyor. Türkler cep telefonunu mağazadan alıyor Telefon satın alma kanalı tercihleri incelendiğinde Türkiye’deki katılımcılar globaldekilerden farklılaşıyor. Türkiye’deki katılımcıların yüzde 49’u mevcut telefonlarını mağazadan alırken sadece yüzde 27’si çevrimiçi kanalları kullandıklarını belirtti. Buna karşın global katılımcılarda mağaza ve çevrimiçi satın alma oranlarının yüzde 37 ve yüzde 38 olduğu görülüyor. Alışverişte ilk tercih akıllı telefonlar        Pandemide kullanımı artan çevrim içi alışveriş için ilk tercih edilen cihazların akıllı telefonlar olduğu görülüyor. Fiziki mağazalardan alışveriş yapan her 3 katılımcıdan birisi elektronik perakende mağazalarını tercih ederken, çevrim içi kanallardan alışveriş yapanların yüzde 70’i sadece e-ticaret yoluyla faaliyet gösteren e-ticaret sitelerini kullandıklarını söyledi. Kullanıcılar çevrimiçi satın alma faaliyetlerinde ikinci sırada perakendecinin internet sitesini seçtiğini belirtiyor. Bu eğilimin sebebinin hizmet ya da ürün sağlayıcıların kullanıcılarına sunduğu sadakat programları olduğu düşünülüyor. Akıllı televizyon kullanıcıları arttı Türkiye’de televizyon izleme alışkanlığına paralel olarak akıllı TV sahipliği oranı da yüzde 66 gibi yüksek bir rakam çıktı. Bu oran globalde yüzde 58. Geleneksel televizyonları akıllı televizyona dönüştüren video akış cihazlarına (Chromecast, Xiaomi Mi TV Stick) sahip olan kullanıcıların Türkiye oranı da global ortalamanın 2 puan üzerinde (yüzde 30). Araştırmaya göre evde geçirilen zamanın artışı eğlence kategorilerini de değiştirdi. 2019’daki bir önceki araştırmaya kıyasla sahiplik oranı en çok artan nesneler set üstü kutular (+17 puan) ve akıllı TV’ler (+7 puan) oldu. Robot süpürgelerde Türkiye fark attı Global ortalama ile kıyaslandığında Türkiye'de sahiplik bakımından en yüksek pozitif ayrışmanın 13 puanlık fark ile robot süpürgeler ve akıllı ev aletleri kategorilerinde olduğu dikkat çekiyor. Tüm akıllı nesne kategorilerinde, 25-34 yaş grubu katılımcıların en yüksek sahiplik ve erişim oranlarına sahip oldukları belirlendi. Akıllı telefonlar gün içinde elimizden düşmüyor Araştırmaya göre kullanıcıların yüzde 87’si, gün içerisinde en fazla akıllı telefonlarını kullanıyor. Telefonları yüzde 77’iyle akıllı televizyonlar, yüzde 75’le dizüstü bilgisayarlar takip ediyor. Akıllı telefonların bu kadar sık kullanılmasında, bu cihazlar üzerinden bağlantılı diğer cihazların kontrol edilebilmesi, bankacılık, sağlık gibi hizmetlerin telefondaki uygulamalar üzerinden yönetilebilmesinin etkisi var. Ayrıca anlık mesajlaşma uygulamaları ve sosyal medya kullanımı da akıllı telefon kullanımını artıran faktörlerden. Pandemi döneminde artan online alışverişlerin önemli bir bölümü cep telefonları üzerinden gerçekleşiyor. Kullanıcıları cep telefonlarındaki uygulama üzerinden alışveriş yapmaya yönlendiren birçok sebep var. Bunların başında yüzde 35’le hızlı teslimat geliyor. Uygulamada oluşturulmuş kişisel hesaplarda alışverişlerden kazanılan indirim ve hediyelere kolay erişim de (yüzde 27) uygulamaların seçilmesindeki ikinci etken. Bunları uygulamada kolay gezinme (yüzde 26), güvenlik (yüzde 24) ve ucuz teslimat (yüzde 23) takip ediyor. Türk halkının yarısından çoğu 5G’ye geçmek istiyor Türkiye’deki katılımcıların yüzde 77’si ev internet hizmetini sabit geniş bant internet sağlayıcılarından alıyor. Pandeminin etkisiyle kullanıcılar, ev internetinin hızını ve kalitesini artırma, düşük ücretli pakete geçme ve paketine yeni hizmet ekleme gibi değişiklikler yaptıklarını belirtiyor. Bu noktada Türkiye ev internet hizmetinde en çok değişiklik yapan ülkeler arasında yer alıyor. Katılımcıların yüzde 34’ü bu dönemde daha yüksek hızda internet hizmeti almayı tercih etti. İnternet hızına verilen bu önem, 5G teknolojisine geçiş konusundaki tutuma da olumlu yansıyor. Katılımcıların yüzde 51’i 5G ağına geçmek istediğini, yüzde 60’ı operatör tercihlerini 5G kapsama alanı yeterliliğini göz önünde bulundurarak değiştirebileceğini belirtiyor. Bunların yanı sıra katılımcıların yarısından fazlası 5G teknolojisi hakkında yeterli bilgiye sahip olmadığını da vurguluyor. Türkiye’deki katılımcıların yüzde 79’u evde internet erişimini sabit geniş bant internet bağlantısıyla sağlıyor. Bu oran Birleşik Krallık, Almanya ve Hollanda gibi Avrupa ülkelerine kıyasla yaklaşık yüzde 10 daha düşük. Katılımcıların yüzde 19’u evde internet erişimini mobil internet bağlantısıyla sağladığını belirtiyor. Pandemi döneminde Türkiye’de ev internet hizmetlerinde değişiklik yapanların oranı yüzde 68’le dünya ortalamasından 33 puan yüksekte. İnternet hizmetini değiştirenlerin birinci nedeni daha yüksek hıza geçiş (yüzde 35). Yüksek hızı üst pakete geçme (yüzde 25) ve daha kaliteli hizmete geçme (yüzde 25) izliyor. Dijital dünyada geçirilen zaman arttı Pandemi dönemindeki eve kapanmayla birlikte dünya genelinde dijital dünyada geçirilen sürede büyük bir artış yaşandı. Türkiye’deki katılımcılar da keyifli zaman geçirmek için çevrim içi film / dizi izlemek, video içerik seyretmek ve oyun oynamak gibi aktivitelere pandemi öncesine kıyasla daha çok zaman ayırdıklarını belirtiyor. Dijital hizmetlere ücretli aboneliklerle erişim oranları incelendiğinde en yüksek oranın yüzde 36 ile müzik yayın hizmetlerinde olduğu görülüyor.  Katılımcıların yüzde 52’si son 12 ayda video yayın hizmetlerine abonelik yaptırırken yüzde 22’si ücretlerin fazla olması, geçici süre ihtiyaç duyulması, ilgi çekici içeriklerin tükenmesi vb. nedenlerle aboneliklerini iptal ettiklerini belirtiyor. Yalan haberler sosyal medyadan uzaklaştırdı Araştırmaya göre Türkiye’deki 18-34 yaş arası katılımcılar, güncel olaylar hakkında bilgi edinmek için YouTube, Twitter gibi sosyal medya platformlarını tercih ediyor, 35-55 yaş aralığındaki katılımcılar ise televizyon haberleri ve haber sitelerini takip ediyor. Türkiye’deki katılımcıların yüzde 84’ü yalan haberleri günümüzün büyük bir sorunu olarak görüyor. Yüzde 64’ü hangi bilginin doğru olup olmadığını ayırt etmenin zor olduğunu ifade ederken, yüzde 27’si yalan haberler, veri gizliliği gibi gerekçelerle sosyal medya kullanımlarını geçici veya kalıcı olarak durdurduklarını belirtiyor. 35-44 yaş grubu katılımcılar, en çok gizlilik endişeleriyle sosyal medya kullanımlarını durdururken, haber kaynağı olarak ağırlıkla geleneksel kanalları tercih eden 45-55 yaş grubundaki katılımcılar sosyal medyada yer alan yalan haber ve komplo teorilerinin çokluğundan dolayı sosyal medyadan uzaklaştıklarını vurguluyor. Türkiye'den ve Dünya’dan son dakika haberleri, köşe yazıları, magazinden siyasete, spordan seyahate bütün konuların tek adresi http://hurriyet.com.tr ;Hurriyet.com.tr haber içerikleri izin alınmadan, kaynak gösterilerek dahi iktibas edilemez. Kanuna aykırı ve izinsiz olarak kopyalanamaz, başka yerde yayınlanamaz.\n"
     ]
    }
   ],
   "source": [
    "text = \"\"\n",
    "\n",
    "for paragraph in soup.find_all(\"p\"):\n",
    "    text += paragraph.text\n",
    "    \n",
    "print(text)"
   ]
  },
  {
   "cell_type": "code",
   "execution_count": null,
   "metadata": {},
   "outputs": [],
   "source": []
  }
 ],
 "metadata": {
  "kernelspec": {
   "display_name": "Python 3",
   "language": "python",
   "name": "python3"
  },
  "language_info": {
   "codemirror_mode": {
    "name": "ipython",
    "version": 3
   },
   "file_extension": ".py",
   "mimetype": "text/x-python",
   "name": "python",
   "nbconvert_exporter": "python",
   "pygments_lexer": "ipython3",
   "version": "3.8.5"
  }
 },
 "nbformat": 4,
 "nbformat_minor": 4
}
